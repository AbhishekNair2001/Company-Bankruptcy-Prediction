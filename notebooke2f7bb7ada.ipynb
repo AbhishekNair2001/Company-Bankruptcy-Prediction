{
 "cells": [
  {
   "cell_type": "code",
   "execution_count": 1,
   "id": "ce04338b",
   "metadata": {
    "_cell_guid": "b1076dfc-b9ad-4769-8c92-a6c4dae69d19",
    "_uuid": "8f2839f25d086af736a60e9eeb907d3b93b6e0e5",
    "execution": {
     "iopub.execute_input": "2024-03-08T13:05:01.519892Z",
     "iopub.status.busy": "2024-03-08T13:05:01.518841Z",
     "iopub.status.idle": "2024-03-08T13:05:02.406188Z",
     "shell.execute_reply": "2024-03-08T13:05:02.405024Z"
    },
    "papermill": {
     "duration": 0.910577,
     "end_time": "2024-03-08T13:05:02.408840",
     "exception": false,
     "start_time": "2024-03-08T13:05:01.498263",
     "status": "completed"
    },
    "tags": []
   },
   "outputs": [
    {
     "name": "stdout",
     "output_type": "stream",
     "text": [
      "/kaggle/input/company-bankruptcy-prediction/data.csv\n"
     ]
    }
   ],
   "source": [
    "# This Python 3 environment comes with many helpful analytics libraries installed\n",
    "# It is defined by the kaggle/python Docker image: https://github.com/kaggle/docker-python\n",
    "# For example, here's several helpful packages to load\n",
    "\n",
    "import numpy as np # linear algebra\n",
    "import pandas as pd # data processing, CSV file I/O (e.g. pd.read_csv)\n",
    "\n",
    "# Input data files are available in the read-only \"../input/\" directory\n",
    "# For example, running this (by clicking run or pressing Shift+Enter) will list all files under the input directory\n",
    "\n",
    "import os\n",
    "for dirname, _, filenames in os.walk('/kaggle/input'):\n",
    "    for filename in filenames:\n",
    "        print(os.path.join(dirname, filename))\n",
    "\n",
    "# You can write up to 20GB to the current directory (/kaggle/working/) that gets preserved as output when you create a version using \"Save & Run All\" \n",
    "# You can also write temporary files to /kaggle/temp/, but they won't be saved outside of the current session"
   ]
  },
  {
   "cell_type": "code",
   "execution_count": 2,
   "id": "7ab41a3b",
   "metadata": {
    "execution": {
     "iopub.execute_input": "2024-03-08T13:05:02.447794Z",
     "iopub.status.busy": "2024-03-08T13:05:02.446711Z",
     "iopub.status.idle": "2024-03-08T13:05:04.608923Z",
     "shell.execute_reply": "2024-03-08T13:05:04.607742Z"
    },
    "papermill": {
     "duration": 2.18491,
     "end_time": "2024-03-08T13:05:04.611964",
     "exception": false,
     "start_time": "2024-03-08T13:05:02.427054",
     "status": "completed"
    },
    "tags": []
   },
   "outputs": [],
   "source": [
    "import seaborn as sns\n",
    "import matplotlib.pyplot as plt\n",
    "import plotly.express as px\n",
    "from plotly.offline import iplot, plot\n",
    "from plotly.subplots import make_subplots\n"
   ]
  },
  {
   "cell_type": "markdown",
   "id": "79591faa",
   "metadata": {
    "papermill": {
     "duration": 0.018087,
     "end_time": "2024-03-08T13:05:04.648646",
     "exception": false,
     "start_time": "2024-03-08T13:05:04.630559",
     "status": "completed"
    },
    "tags": []
   },
   "source": [
    "# **LOAD DATA**"
   ]
  },
  {
   "cell_type": "code",
   "execution_count": 3,
   "id": "52d151f2",
   "metadata": {
    "execution": {
     "iopub.execute_input": "2024-03-08T13:05:04.689086Z",
     "iopub.status.busy": "2024-03-08T13:05:04.688184Z",
     "iopub.status.idle": "2024-03-08T13:05:05.035980Z",
     "shell.execute_reply": "2024-03-08T13:05:05.034606Z"
    },
    "papermill": {
     "duration": 0.370192,
     "end_time": "2024-03-08T13:05:05.038717",
     "exception": false,
     "start_time": "2024-03-08T13:05:04.668525",
     "status": "completed"
    },
    "tags": []
   },
   "outputs": [],
   "source": [
    "data = pd.read_csv(\"/kaggle/input/company-bankruptcy-prediction/data.csv\")"
   ]
  },
  {
   "cell_type": "markdown",
   "id": "079bf33d",
   "metadata": {
    "papermill": {
     "duration": 0.017767,
     "end_time": "2024-03-08T13:05:05.075027",
     "exception": false,
     "start_time": "2024-03-08T13:05:05.057260",
     "status": "completed"
    },
    "tags": []
   },
   "source": [
    "# **EDA**"
   ]
  },
  {
   "cell_type": "code",
   "execution_count": 4,
   "id": "f9238bdc",
   "metadata": {
    "execution": {
     "iopub.execute_input": "2024-03-08T13:05:05.113086Z",
     "iopub.status.busy": "2024-03-08T13:05:05.112680Z",
     "iopub.status.idle": "2024-03-08T13:05:05.148619Z",
     "shell.execute_reply": "2024-03-08T13:05:05.147473Z"
    },
    "papermill": {
     "duration": 0.058161,
     "end_time": "2024-03-08T13:05:05.151241",
     "exception": false,
     "start_time": "2024-03-08T13:05:05.093080",
     "status": "completed"
    },
    "tags": []
   },
   "outputs": [
    {
     "name": "stdout",
     "output_type": "stream",
     "text": [
      "<class 'pandas.core.frame.DataFrame'>\n",
      "RangeIndex: 6819 entries, 0 to 6818\n",
      "Data columns (total 96 columns):\n",
      " #   Column                                                    Non-Null Count  Dtype  \n",
      "---  ------                                                    --------------  -----  \n",
      " 0   Bankrupt?                                                 6819 non-null   int64  \n",
      " 1    ROA(C) before interest and depreciation before interest  6819 non-null   float64\n",
      " 2    ROA(A) before interest and % after tax                   6819 non-null   float64\n",
      " 3    ROA(B) before interest and depreciation after tax        6819 non-null   float64\n",
      " 4    Operating Gross Margin                                   6819 non-null   float64\n",
      " 5    Realized Sales Gross Margin                              6819 non-null   float64\n",
      " 6    Operating Profit Rate                                    6819 non-null   float64\n",
      " 7    Pre-tax net Interest Rate                                6819 non-null   float64\n",
      " 8    After-tax net Interest Rate                              6819 non-null   float64\n",
      " 9    Non-industry income and expenditure/revenue              6819 non-null   float64\n",
      " 10   Continuous interest rate (after tax)                     6819 non-null   float64\n",
      " 11   Operating Expense Rate                                   6819 non-null   float64\n",
      " 12   Research and development expense rate                    6819 non-null   float64\n",
      " 13   Cash flow rate                                           6819 non-null   float64\n",
      " 14   Interest-bearing debt interest rate                      6819 non-null   float64\n",
      " 15   Tax rate (A)                                             6819 non-null   float64\n",
      " 16   Net Value Per Share (B)                                  6819 non-null   float64\n",
      " 17   Net Value Per Share (A)                                  6819 non-null   float64\n",
      " 18   Net Value Per Share (C)                                  6819 non-null   float64\n",
      " 19   Persistent EPS in the Last Four Seasons                  6819 non-null   float64\n",
      " 20   Cash Flow Per Share                                      6819 non-null   float64\n",
      " 21   Revenue Per Share (Yuan ¥)                               6819 non-null   float64\n",
      " 22   Operating Profit Per Share (Yuan ¥)                      6819 non-null   float64\n",
      " 23   Per Share Net profit before tax (Yuan ¥)                 6819 non-null   float64\n",
      " 24   Realized Sales Gross Profit Growth Rate                  6819 non-null   float64\n",
      " 25   Operating Profit Growth Rate                             6819 non-null   float64\n",
      " 26   After-tax Net Profit Growth Rate                         6819 non-null   float64\n",
      " 27   Regular Net Profit Growth Rate                           6819 non-null   float64\n",
      " 28   Continuous Net Profit Growth Rate                        6819 non-null   float64\n",
      " 29   Total Asset Growth Rate                                  6819 non-null   float64\n",
      " 30   Net Value Growth Rate                                    6819 non-null   float64\n",
      " 31   Total Asset Return Growth Rate Ratio                     6819 non-null   float64\n",
      " 32   Cash Reinvestment %                                      6819 non-null   float64\n",
      " 33   Current Ratio                                            6819 non-null   float64\n",
      " 34   Quick Ratio                                              6819 non-null   float64\n",
      " 35   Interest Expense Ratio                                   6819 non-null   float64\n",
      " 36   Total debt/Total net worth                               6819 non-null   float64\n",
      " 37   Debt ratio %                                             6819 non-null   float64\n",
      " 38   Net worth/Assets                                         6819 non-null   float64\n",
      " 39   Long-term fund suitability ratio (A)                     6819 non-null   float64\n",
      " 40   Borrowing dependency                                     6819 non-null   float64\n",
      " 41   Contingent liabilities/Net worth                         6819 non-null   float64\n",
      " 42   Operating profit/Paid-in capital                         6819 non-null   float64\n",
      " 43   Net profit before tax/Paid-in capital                    6819 non-null   float64\n",
      " 44   Inventory and accounts receivable/Net value              6819 non-null   float64\n",
      " 45   Total Asset Turnover                                     6819 non-null   float64\n",
      " 46   Accounts Receivable Turnover                             6819 non-null   float64\n",
      " 47   Average Collection Days                                  6819 non-null   float64\n",
      " 48   Inventory Turnover Rate (times)                          6819 non-null   float64\n",
      " 49   Fixed Assets Turnover Frequency                          6819 non-null   float64\n",
      " 50   Net Worth Turnover Rate (times)                          6819 non-null   float64\n",
      " 51   Revenue per person                                       6819 non-null   float64\n",
      " 52   Operating profit per person                              6819 non-null   float64\n",
      " 53   Allocation rate per person                               6819 non-null   float64\n",
      " 54   Working Capital to Total Assets                          6819 non-null   float64\n",
      " 55   Quick Assets/Total Assets                                6819 non-null   float64\n",
      " 56   Current Assets/Total Assets                              6819 non-null   float64\n",
      " 57   Cash/Total Assets                                        6819 non-null   float64\n",
      " 58   Quick Assets/Current Liability                           6819 non-null   float64\n",
      " 59   Cash/Current Liability                                   6819 non-null   float64\n",
      " 60   Current Liability to Assets                              6819 non-null   float64\n",
      " 61   Operating Funds to Liability                             6819 non-null   float64\n",
      " 62   Inventory/Working Capital                                6819 non-null   float64\n",
      " 63   Inventory/Current Liability                              6819 non-null   float64\n",
      " 64   Current Liabilities/Liability                            6819 non-null   float64\n",
      " 65   Working Capital/Equity                                   6819 non-null   float64\n",
      " 66   Current Liabilities/Equity                               6819 non-null   float64\n",
      " 67   Long-term Liability to Current Assets                    6819 non-null   float64\n",
      " 68   Retained Earnings to Total Assets                        6819 non-null   float64\n",
      " 69   Total income/Total expense                               6819 non-null   float64\n",
      " 70   Total expense/Assets                                     6819 non-null   float64\n",
      " 71   Current Asset Turnover Rate                              6819 non-null   float64\n",
      " 72   Quick Asset Turnover Rate                                6819 non-null   float64\n",
      " 73   Working capitcal Turnover Rate                           6819 non-null   float64\n",
      " 74   Cash Turnover Rate                                       6819 non-null   float64\n",
      " 75   Cash Flow to Sales                                       6819 non-null   float64\n",
      " 76   Fixed Assets to Assets                                   6819 non-null   float64\n",
      " 77   Current Liability to Liability                           6819 non-null   float64\n",
      " 78   Current Liability to Equity                              6819 non-null   float64\n",
      " 79   Equity to Long-term Liability                            6819 non-null   float64\n",
      " 80   Cash Flow to Total Assets                                6819 non-null   float64\n",
      " 81   Cash Flow to Liability                                   6819 non-null   float64\n",
      " 82   CFO to Assets                                            6819 non-null   float64\n",
      " 83   Cash Flow to Equity                                      6819 non-null   float64\n",
      " 84   Current Liability to Current Assets                      6819 non-null   float64\n",
      " 85   Liability-Assets Flag                                    6819 non-null   int64  \n",
      " 86   Net Income to Total Assets                               6819 non-null   float64\n",
      " 87   Total assets to GNP price                                6819 non-null   float64\n",
      " 88   No-credit Interval                                       6819 non-null   float64\n",
      " 89   Gross Profit to Sales                                    6819 non-null   float64\n",
      " 90   Net Income to Stockholder's Equity                       6819 non-null   float64\n",
      " 91   Liability to Equity                                      6819 non-null   float64\n",
      " 92   Degree of Financial Leverage (DFL)                       6819 non-null   float64\n",
      " 93   Interest Coverage Ratio (Interest expense to EBIT)       6819 non-null   float64\n",
      " 94   Net Income Flag                                          6819 non-null   int64  \n",
      " 95   Equity to Liability                                      6819 non-null   float64\n",
      "dtypes: float64(93), int64(3)\n",
      "memory usage: 5.0 MB\n"
     ]
    }
   ],
   "source": [
    "data.info()"
   ]
  },
  {
   "cell_type": "code",
   "execution_count": 5,
   "id": "f92ced9a",
   "metadata": {
    "execution": {
     "iopub.execute_input": "2024-03-08T13:05:05.191874Z",
     "iopub.status.busy": "2024-03-08T13:05:05.191188Z",
     "iopub.status.idle": "2024-03-08T13:05:05.199354Z",
     "shell.execute_reply": "2024-03-08T13:05:05.198216Z"
    },
    "papermill": {
     "duration": 0.031896,
     "end_time": "2024-03-08T13:05:05.201715",
     "exception": false,
     "start_time": "2024-03-08T13:05:05.169819",
     "status": "completed"
    },
    "tags": []
   },
   "outputs": [
    {
     "data": {
      "text/plain": [
       "Index(['Bankrupt?', ' ROA(C) before interest and depreciation before interest',\n",
       "       ' ROA(A) before interest and % after tax',\n",
       "       ' ROA(B) before interest and depreciation after tax',\n",
       "       ' Operating Gross Margin', ' Realized Sales Gross Margin',\n",
       "       ' Operating Profit Rate', ' Pre-tax net Interest Rate',\n",
       "       ' After-tax net Interest Rate',\n",
       "       ' Non-industry income and expenditure/revenue',\n",
       "       ' Continuous interest rate (after tax)', ' Operating Expense Rate',\n",
       "       ' Research and development expense rate', ' Cash flow rate',\n",
       "       ' Interest-bearing debt interest rate', ' Tax rate (A)',\n",
       "       ' Net Value Per Share (B)', ' Net Value Per Share (A)',\n",
       "       ' Net Value Per Share (C)', ' Persistent EPS in the Last Four Seasons',\n",
       "       ' Cash Flow Per Share', ' Revenue Per Share (Yuan ¥)',\n",
       "       ' Operating Profit Per Share (Yuan ¥)',\n",
       "       ' Per Share Net profit before tax (Yuan ¥)',\n",
       "       ' Realized Sales Gross Profit Growth Rate',\n",
       "       ' Operating Profit Growth Rate', ' After-tax Net Profit Growth Rate',\n",
       "       ' Regular Net Profit Growth Rate', ' Continuous Net Profit Growth Rate',\n",
       "       ' Total Asset Growth Rate', ' Net Value Growth Rate',\n",
       "       ' Total Asset Return Growth Rate Ratio', ' Cash Reinvestment %',\n",
       "       ' Current Ratio', ' Quick Ratio', ' Interest Expense Ratio',\n",
       "       ' Total debt/Total net worth', ' Debt ratio %', ' Net worth/Assets',\n",
       "       ' Long-term fund suitability ratio (A)', ' Borrowing dependency',\n",
       "       ' Contingent liabilities/Net worth',\n",
       "       ' Operating profit/Paid-in capital',\n",
       "       ' Net profit before tax/Paid-in capital',\n",
       "       ' Inventory and accounts receivable/Net value', ' Total Asset Turnover',\n",
       "       ' Accounts Receivable Turnover', ' Average Collection Days',\n",
       "       ' Inventory Turnover Rate (times)', ' Fixed Assets Turnover Frequency',\n",
       "       ' Net Worth Turnover Rate (times)', ' Revenue per person',\n",
       "       ' Operating profit per person', ' Allocation rate per person',\n",
       "       ' Working Capital to Total Assets', ' Quick Assets/Total Assets',\n",
       "       ' Current Assets/Total Assets', ' Cash/Total Assets',\n",
       "       ' Quick Assets/Current Liability', ' Cash/Current Liability',\n",
       "       ' Current Liability to Assets', ' Operating Funds to Liability',\n",
       "       ' Inventory/Working Capital', ' Inventory/Current Liability',\n",
       "       ' Current Liabilities/Liability', ' Working Capital/Equity',\n",
       "       ' Current Liabilities/Equity', ' Long-term Liability to Current Assets',\n",
       "       ' Retained Earnings to Total Assets', ' Total income/Total expense',\n",
       "       ' Total expense/Assets', ' Current Asset Turnover Rate',\n",
       "       ' Quick Asset Turnover Rate', ' Working capitcal Turnover Rate',\n",
       "       ' Cash Turnover Rate', ' Cash Flow to Sales', ' Fixed Assets to Assets',\n",
       "       ' Current Liability to Liability', ' Current Liability to Equity',\n",
       "       ' Equity to Long-term Liability', ' Cash Flow to Total Assets',\n",
       "       ' Cash Flow to Liability', ' CFO to Assets', ' Cash Flow to Equity',\n",
       "       ' Current Liability to Current Assets', ' Liability-Assets Flag',\n",
       "       ' Net Income to Total Assets', ' Total assets to GNP price',\n",
       "       ' No-credit Interval', ' Gross Profit to Sales',\n",
       "       ' Net Income to Stockholder's Equity', ' Liability to Equity',\n",
       "       ' Degree of Financial Leverage (DFL)',\n",
       "       ' Interest Coverage Ratio (Interest expense to EBIT)',\n",
       "       ' Net Income Flag', ' Equity to Liability'],\n",
       "      dtype='object')"
      ]
     },
     "execution_count": 5,
     "metadata": {},
     "output_type": "execute_result"
    }
   ],
   "source": [
    "data.columns"
   ]
  },
  {
   "cell_type": "code",
   "execution_count": 6,
   "id": "16e7f40a",
   "metadata": {
    "execution": {
     "iopub.execute_input": "2024-03-08T13:05:05.241963Z",
     "iopub.status.busy": "2024-03-08T13:05:05.241549Z",
     "iopub.status.idle": "2024-03-08T13:05:05.247932Z",
     "shell.execute_reply": "2024-03-08T13:05:05.247039Z"
    },
    "papermill": {
     "duration": 0.029179,
     "end_time": "2024-03-08T13:05:05.249918",
     "exception": false,
     "start_time": "2024-03-08T13:05:05.220739",
     "status": "completed"
    },
    "tags": []
   },
   "outputs": [
    {
     "data": {
      "text/plain": [
       "(6819, 96)"
      ]
     },
     "execution_count": 6,
     "metadata": {},
     "output_type": "execute_result"
    }
   ],
   "source": [
    "data.shape"
   ]
  },
  {
   "cell_type": "code",
   "execution_count": 7,
   "id": "07242310",
   "metadata": {
    "execution": {
     "iopub.execute_input": "2024-03-08T13:05:05.289937Z",
     "iopub.status.busy": "2024-03-08T13:05:05.289159Z",
     "iopub.status.idle": "2024-03-08T13:05:05.313959Z",
     "shell.execute_reply": "2024-03-08T13:05:05.312905Z"
    },
    "papermill": {
     "duration": 0.047554,
     "end_time": "2024-03-08T13:05:05.316300",
     "exception": false,
     "start_time": "2024-03-08T13:05:05.268746",
     "status": "completed"
    },
    "tags": []
   },
   "outputs": [
    {
     "data": {
      "text/plain": [
       "<bound method NDFrame.describe of       Bankrupt?   ROA(C) before interest and depreciation before interest  \\\n",
       "0             1                                           0.370594          \n",
       "1             1                                           0.464291          \n",
       "2             1                                           0.426071          \n",
       "3             1                                           0.399844          \n",
       "4             1                                           0.465022          \n",
       "...         ...                                                ...          \n",
       "6814          0                                           0.493687          \n",
       "6815          0                                           0.475162          \n",
       "6816          0                                           0.472725          \n",
       "6817          0                                           0.506264          \n",
       "6818          0                                           0.493053          \n",
       "\n",
       "       ROA(A) before interest and % after tax  \\\n",
       "0                                    0.424389   \n",
       "1                                    0.538214   \n",
       "2                                    0.499019   \n",
       "3                                    0.451265   \n",
       "4                                    0.538432   \n",
       "...                                       ...   \n",
       "6814                                 0.539468   \n",
       "6815                                 0.538269   \n",
       "6816                                 0.533744   \n",
       "6817                                 0.559911   \n",
       "6818                                 0.570105   \n",
       "\n",
       "       ROA(B) before interest and depreciation after tax  \\\n",
       "0                                              0.405750    \n",
       "1                                              0.516730    \n",
       "2                                              0.472295    \n",
       "3                                              0.457733    \n",
       "4                                              0.522298    \n",
       "...                                                 ...    \n",
       "6814                                           0.543230    \n",
       "6815                                           0.524172    \n",
       "6816                                           0.520638    \n",
       "6817                                           0.554045    \n",
       "6818                                           0.549548    \n",
       "\n",
       "       Operating Gross Margin   Realized Sales Gross Margin  \\\n",
       "0                    0.601457                      0.601457   \n",
       "1                    0.610235                      0.610235   \n",
       "2                    0.601450                      0.601364   \n",
       "3                    0.583541                      0.583541   \n",
       "4                    0.598783                      0.598783   \n",
       "...                       ...                           ...   \n",
       "6814                 0.604455                      0.604462   \n",
       "6815                 0.598308                      0.598308   \n",
       "6816                 0.610444                      0.610213   \n",
       "6817                 0.607850                      0.607850   \n",
       "6818                 0.627409                      0.627409   \n",
       "\n",
       "       Operating Profit Rate   Pre-tax net Interest Rate  \\\n",
       "0                   0.998969                    0.796887   \n",
       "1                   0.998946                    0.797380   \n",
       "2                   0.998857                    0.796403   \n",
       "3                   0.998700                    0.796967   \n",
       "4                   0.998973                    0.797366   \n",
       "...                      ...                         ...   \n",
       "6814                0.998992                    0.797409   \n",
       "6815                0.998992                    0.797414   \n",
       "6816                0.998984                    0.797401   \n",
       "6817                0.999074                    0.797500   \n",
       "6818                0.998080                    0.801987   \n",
       "\n",
       "       After-tax net Interest Rate  \\\n",
       "0                         0.808809   \n",
       "1                         0.809301   \n",
       "2                         0.808388   \n",
       "3                         0.808966   \n",
       "4                         0.809304   \n",
       "...                            ...   \n",
       "6814                      0.809331   \n",
       "6815                      0.809327   \n",
       "6816                      0.809317   \n",
       "6817                      0.809399   \n",
       "6818                      0.813800   \n",
       "\n",
       "       Non-industry income and expenditure/revenue  ...  \\\n",
       "0                                         0.302646  ...   \n",
       "1                                         0.303556  ...   \n",
       "2                                         0.302035  ...   \n",
       "3                                         0.303350  ...   \n",
       "4                                         0.303475  ...   \n",
       "...                                            ...  ...   \n",
       "6814                                      0.303510  ...   \n",
       "6815                                      0.303520  ...   \n",
       "6816                                      0.303512  ...   \n",
       "6817                                      0.303498  ...   \n",
       "6818                                      0.313415  ...   \n",
       "\n",
       "       Net Income to Total Assets   Total assets to GNP price  \\\n",
       "0                        0.716845                    0.009219   \n",
       "1                        0.795297                    0.008323   \n",
       "2                        0.774670                    0.040003   \n",
       "3                        0.739555                    0.003252   \n",
       "4                        0.795016                    0.003878   \n",
       "...                           ...                         ...   \n",
       "6814                     0.799927                    0.000466   \n",
       "6815                     0.799748                    0.001959   \n",
       "6816                     0.797778                    0.002840   \n",
       "6817                     0.811808                    0.002837   \n",
       "6818                     0.815956                    0.000707   \n",
       "\n",
       "       No-credit Interval   Gross Profit to Sales  \\\n",
       "0                0.622879                0.601453   \n",
       "1                0.623652                0.610237   \n",
       "2                0.623841                0.601449   \n",
       "3                0.622929                0.583538   \n",
       "4                0.623521                0.598782   \n",
       "...                   ...                     ...   \n",
       "6814             0.623620                0.604455   \n",
       "6815             0.623931                0.598306   \n",
       "6816             0.624156                0.610441   \n",
       "6817             0.623957                0.607846   \n",
       "6818             0.626680                0.627408   \n",
       "\n",
       "       Net Income to Stockholder's Equity   Liability to Equity  \\\n",
       "0                                0.827890              0.290202   \n",
       "1                                0.839969              0.283846   \n",
       "2                                0.836774              0.290189   \n",
       "3                                0.834697              0.281721   \n",
       "4                                0.839973              0.278514   \n",
       "...                                   ...                   ...   \n",
       "6814                             0.840359              0.279606   \n",
       "6815                             0.840306              0.278132   \n",
       "6816                             0.840138              0.275789   \n",
       "6817                             0.841084              0.277547   \n",
       "6818                             0.841019              0.275114   \n",
       "\n",
       "       Degree of Financial Leverage (DFL)  \\\n",
       "0                                0.026601   \n",
       "1                                0.264577   \n",
       "2                                0.026555   \n",
       "3                                0.026697   \n",
       "4                                0.024752   \n",
       "...                                   ...   \n",
       "6814                             0.027064   \n",
       "6815                             0.027009   \n",
       "6816                             0.026791   \n",
       "6817                             0.026822   \n",
       "6818                             0.026793   \n",
       "\n",
       "       Interest Coverage Ratio (Interest expense to EBIT)   Net Income Flag  \\\n",
       "0                                              0.564050                   1   \n",
       "1                                              0.570175                   1   \n",
       "2                                              0.563706                   1   \n",
       "3                                              0.564663                   1   \n",
       "4                                              0.575617                   1   \n",
       "...                                                 ...                 ...   \n",
       "6814                                           0.566193                   1   \n",
       "6815                                           0.566018                   1   \n",
       "6816                                           0.565158                   1   \n",
       "6817                                           0.565302                   1   \n",
       "6818                                           0.565167                   1   \n",
       "\n",
       "       Equity to Liability  \n",
       "0                 0.016469  \n",
       "1                 0.020794  \n",
       "2                 0.016474  \n",
       "3                 0.023982  \n",
       "4                 0.035490  \n",
       "...                    ...  \n",
       "6814              0.029890  \n",
       "6815              0.038284  \n",
       "6816              0.097649  \n",
       "6817              0.044009  \n",
       "6818              0.233902  \n",
       "\n",
       "[6819 rows x 96 columns]>"
      ]
     },
     "execution_count": 7,
     "metadata": {},
     "output_type": "execute_result"
    }
   ],
   "source": [
    "data.describe"
   ]
  },
  {
   "cell_type": "code",
   "execution_count": 8,
   "id": "051511ed",
   "metadata": {
    "execution": {
     "iopub.execute_input": "2024-03-08T13:05:05.356860Z",
     "iopub.status.busy": "2024-03-08T13:05:05.356475Z",
     "iopub.status.idle": "2024-03-08T13:05:05.385773Z",
     "shell.execute_reply": "2024-03-08T13:05:05.384718Z"
    },
    "papermill": {
     "duration": 0.05239,
     "end_time": "2024-03-08T13:05:05.388074",
     "exception": false,
     "start_time": "2024-03-08T13:05:05.335684",
     "status": "completed"
    },
    "tags": []
   },
   "outputs": [
    {
     "data": {
      "text/html": [
       "<div>\n",
       "<style scoped>\n",
       "    .dataframe tbody tr th:only-of-type {\n",
       "        vertical-align: middle;\n",
       "    }\n",
       "\n",
       "    .dataframe tbody tr th {\n",
       "        vertical-align: top;\n",
       "    }\n",
       "\n",
       "    .dataframe thead th {\n",
       "        text-align: right;\n",
       "    }\n",
       "</style>\n",
       "<table border=\"1\" class=\"dataframe\">\n",
       "  <thead>\n",
       "    <tr style=\"text-align: right;\">\n",
       "      <th></th>\n",
       "      <th>Bankrupt?</th>\n",
       "      <th>ROA(C) before interest and depreciation before interest</th>\n",
       "      <th>ROA(A) before interest and % after tax</th>\n",
       "      <th>ROA(B) before interest and depreciation after tax</th>\n",
       "      <th>Operating Gross Margin</th>\n",
       "      <th>Realized Sales Gross Margin</th>\n",
       "      <th>Operating Profit Rate</th>\n",
       "      <th>Pre-tax net Interest Rate</th>\n",
       "      <th>After-tax net Interest Rate</th>\n",
       "      <th>Non-industry income and expenditure/revenue</th>\n",
       "      <th>...</th>\n",
       "      <th>Net Income to Total Assets</th>\n",
       "      <th>Total assets to GNP price</th>\n",
       "      <th>No-credit Interval</th>\n",
       "      <th>Gross Profit to Sales</th>\n",
       "      <th>Net Income to Stockholder's Equity</th>\n",
       "      <th>Liability to Equity</th>\n",
       "      <th>Degree of Financial Leverage (DFL)</th>\n",
       "      <th>Interest Coverage Ratio (Interest expense to EBIT)</th>\n",
       "      <th>Net Income Flag</th>\n",
       "      <th>Equity to Liability</th>\n",
       "    </tr>\n",
       "  </thead>\n",
       "  <tbody>\n",
       "    <tr>\n",
       "      <th>1153</th>\n",
       "      <td>0</td>\n",
       "      <td>0.494321</td>\n",
       "      <td>0.568524</td>\n",
       "      <td>0.545693</td>\n",
       "      <td>0.611013</td>\n",
       "      <td>0.611013</td>\n",
       "      <td>0.999007</td>\n",
       "      <td>0.797615</td>\n",
       "      <td>0.809506</td>\n",
       "      <td>0.303838</td>\n",
       "      <td>...</td>\n",
       "      <td>0.817977</td>\n",
       "      <td>0.006185</td>\n",
       "      <td>0.624001</td>\n",
       "      <td>0.611009</td>\n",
       "      <td>0.841242</td>\n",
       "      <td>0.275930</td>\n",
       "      <td>0.026792</td>\n",
       "      <td>0.565161</td>\n",
       "      <td>1</td>\n",
       "      <td>0.087776</td>\n",
       "    </tr>\n",
       "    <tr>\n",
       "      <th>5788</th>\n",
       "      <td>0</td>\n",
       "      <td>0.544825</td>\n",
       "      <td>0.599433</td>\n",
       "      <td>0.586380</td>\n",
       "      <td>0.599519</td>\n",
       "      <td>0.599540</td>\n",
       "      <td>0.999039</td>\n",
       "      <td>0.797464</td>\n",
       "      <td>0.809366</td>\n",
       "      <td>0.303510</td>\n",
       "      <td>...</td>\n",
       "      <td>0.823129</td>\n",
       "      <td>0.003407</td>\n",
       "      <td>0.624175</td>\n",
       "      <td>0.599520</td>\n",
       "      <td>0.844456</td>\n",
       "      <td>0.291475</td>\n",
       "      <td>0.027043</td>\n",
       "      <td>0.566130</td>\n",
       "      <td>1</td>\n",
       "      <td>0.015996</td>\n",
       "    </tr>\n",
       "    <tr>\n",
       "      <th>6329</th>\n",
       "      <td>0</td>\n",
       "      <td>0.503973</td>\n",
       "      <td>0.557894</td>\n",
       "      <td>0.540554</td>\n",
       "      <td>0.597839</td>\n",
       "      <td>0.597839</td>\n",
       "      <td>0.999000</td>\n",
       "      <td>0.797412</td>\n",
       "      <td>0.809323</td>\n",
       "      <td>0.303498</td>\n",
       "      <td>...</td>\n",
       "      <td>0.813093</td>\n",
       "      <td>0.000725</td>\n",
       "      <td>0.623663</td>\n",
       "      <td>0.597837</td>\n",
       "      <td>0.842005</td>\n",
       "      <td>0.284579</td>\n",
       "      <td>0.026872</td>\n",
       "      <td>0.565518</td>\n",
       "      <td>1</td>\n",
       "      <td>0.020012</td>\n",
       "    </tr>\n",
       "    <tr>\n",
       "      <th>2902</th>\n",
       "      <td>0</td>\n",
       "      <td>0.526642</td>\n",
       "      <td>0.558003</td>\n",
       "      <td>0.574763</td>\n",
       "      <td>0.617348</td>\n",
       "      <td>0.615784</td>\n",
       "      <td>0.998995</td>\n",
       "      <td>0.797444</td>\n",
       "      <td>0.809374</td>\n",
       "      <td>0.303564</td>\n",
       "      <td>...</td>\n",
       "      <td>0.808799</td>\n",
       "      <td>0.003538</td>\n",
       "      <td>0.623541</td>\n",
       "      <td>0.617343</td>\n",
       "      <td>0.841453</td>\n",
       "      <td>0.283901</td>\n",
       "      <td>0.027075</td>\n",
       "      <td>0.566224</td>\n",
       "      <td>1</td>\n",
       "      <td>0.020732</td>\n",
       "    </tr>\n",
       "    <tr>\n",
       "      <th>1569</th>\n",
       "      <td>0</td>\n",
       "      <td>0.490128</td>\n",
       "      <td>0.553751</td>\n",
       "      <td>0.536645</td>\n",
       "      <td>0.598373</td>\n",
       "      <td>0.598373</td>\n",
       "      <td>0.998995</td>\n",
       "      <td>0.797411</td>\n",
       "      <td>0.809328</td>\n",
       "      <td>0.303509</td>\n",
       "      <td>...</td>\n",
       "      <td>0.807528</td>\n",
       "      <td>0.001236</td>\n",
       "      <td>0.623896</td>\n",
       "      <td>0.598369</td>\n",
       "      <td>0.841940</td>\n",
       "      <td>0.291699</td>\n",
       "      <td>0.026972</td>\n",
       "      <td>0.565893</td>\n",
       "      <td>1</td>\n",
       "      <td>0.015920</td>\n",
       "    </tr>\n",
       "  </tbody>\n",
       "</table>\n",
       "<p>5 rows × 96 columns</p>\n",
       "</div>"
      ],
      "text/plain": [
       "      Bankrupt?   ROA(C) before interest and depreciation before interest  \\\n",
       "1153          0                                           0.494321          \n",
       "5788          0                                           0.544825          \n",
       "6329          0                                           0.503973          \n",
       "2902          0                                           0.526642          \n",
       "1569          0                                           0.490128          \n",
       "\n",
       "       ROA(A) before interest and % after tax  \\\n",
       "1153                                 0.568524   \n",
       "5788                                 0.599433   \n",
       "6329                                 0.557894   \n",
       "2902                                 0.558003   \n",
       "1569                                 0.553751   \n",
       "\n",
       "       ROA(B) before interest and depreciation after tax  \\\n",
       "1153                                           0.545693    \n",
       "5788                                           0.586380    \n",
       "6329                                           0.540554    \n",
       "2902                                           0.574763    \n",
       "1569                                           0.536645    \n",
       "\n",
       "       Operating Gross Margin   Realized Sales Gross Margin  \\\n",
       "1153                 0.611013                      0.611013   \n",
       "5788                 0.599519                      0.599540   \n",
       "6329                 0.597839                      0.597839   \n",
       "2902                 0.617348                      0.615784   \n",
       "1569                 0.598373                      0.598373   \n",
       "\n",
       "       Operating Profit Rate   Pre-tax net Interest Rate  \\\n",
       "1153                0.999007                    0.797615   \n",
       "5788                0.999039                    0.797464   \n",
       "6329                0.999000                    0.797412   \n",
       "2902                0.998995                    0.797444   \n",
       "1569                0.998995                    0.797411   \n",
       "\n",
       "       After-tax net Interest Rate  \\\n",
       "1153                      0.809506   \n",
       "5788                      0.809366   \n",
       "6329                      0.809323   \n",
       "2902                      0.809374   \n",
       "1569                      0.809328   \n",
       "\n",
       "       Non-industry income and expenditure/revenue  ...  \\\n",
       "1153                                      0.303838  ...   \n",
       "5788                                      0.303510  ...   \n",
       "6329                                      0.303498  ...   \n",
       "2902                                      0.303564  ...   \n",
       "1569                                      0.303509  ...   \n",
       "\n",
       "       Net Income to Total Assets   Total assets to GNP price  \\\n",
       "1153                     0.817977                    0.006185   \n",
       "5788                     0.823129                    0.003407   \n",
       "6329                     0.813093                    0.000725   \n",
       "2902                     0.808799                    0.003538   \n",
       "1569                     0.807528                    0.001236   \n",
       "\n",
       "       No-credit Interval   Gross Profit to Sales  \\\n",
       "1153             0.624001                0.611009   \n",
       "5788             0.624175                0.599520   \n",
       "6329             0.623663                0.597837   \n",
       "2902             0.623541                0.617343   \n",
       "1569             0.623896                0.598369   \n",
       "\n",
       "       Net Income to Stockholder's Equity   Liability to Equity  \\\n",
       "1153                             0.841242              0.275930   \n",
       "5788                             0.844456              0.291475   \n",
       "6329                             0.842005              0.284579   \n",
       "2902                             0.841453              0.283901   \n",
       "1569                             0.841940              0.291699   \n",
       "\n",
       "       Degree of Financial Leverage (DFL)  \\\n",
       "1153                             0.026792   \n",
       "5788                             0.027043   \n",
       "6329                             0.026872   \n",
       "2902                             0.027075   \n",
       "1569                             0.026972   \n",
       "\n",
       "       Interest Coverage Ratio (Interest expense to EBIT)   Net Income Flag  \\\n",
       "1153                                           0.565161                   1   \n",
       "5788                                           0.566130                   1   \n",
       "6329                                           0.565518                   1   \n",
       "2902                                           0.566224                   1   \n",
       "1569                                           0.565893                   1   \n",
       "\n",
       "       Equity to Liability  \n",
       "1153              0.087776  \n",
       "5788              0.015996  \n",
       "6329              0.020012  \n",
       "2902              0.020732  \n",
       "1569              0.015920  \n",
       "\n",
       "[5 rows x 96 columns]"
      ]
     },
     "execution_count": 8,
     "metadata": {},
     "output_type": "execute_result"
    }
   ],
   "source": [
    "data.sample(5)"
   ]
  },
  {
   "cell_type": "code",
   "execution_count": 9,
   "id": "ece6ea4d",
   "metadata": {
    "execution": {
     "iopub.execute_input": "2024-03-08T13:05:05.429248Z",
     "iopub.status.busy": "2024-03-08T13:05:05.428837Z",
     "iopub.status.idle": "2024-03-08T13:05:05.438470Z",
     "shell.execute_reply": "2024-03-08T13:05:05.437596Z"
    },
    "papermill": {
     "duration": 0.032772,
     "end_time": "2024-03-08T13:05:05.440495",
     "exception": false,
     "start_time": "2024-03-08T13:05:05.407723",
     "status": "completed"
    },
    "tags": []
   },
   "outputs": [
    {
     "data": {
      "text/plain": [
       "Bankrupt?                                                   0\n",
       " ROA(C) before interest and depreciation before interest    0\n",
       " ROA(A) before interest and % after tax                     0\n",
       " ROA(B) before interest and depreciation after tax          0\n",
       " Operating Gross Margin                                     0\n",
       "                                                           ..\n",
       " Liability to Equity                                        0\n",
       " Degree of Financial Leverage (DFL)                         0\n",
       " Interest Coverage Ratio (Interest expense to EBIT)         0\n",
       " Net Income Flag                                            0\n",
       " Equity to Liability                                        0\n",
       "Length: 96, dtype: int64"
      ]
     },
     "execution_count": 9,
     "metadata": {},
     "output_type": "execute_result"
    }
   ],
   "source": [
    "data.isna().sum()"
   ]
  },
  {
   "cell_type": "code",
   "execution_count": 10,
   "id": "f3ceb420",
   "metadata": {
    "execution": {
     "iopub.execute_input": "2024-03-08T13:05:05.482941Z",
     "iopub.status.busy": "2024-03-08T13:05:05.481947Z",
     "iopub.status.idle": "2024-03-08T13:05:05.491224Z",
     "shell.execute_reply": "2024-03-08T13:05:05.490371Z"
    },
    "papermill": {
     "duration": 0.032762,
     "end_time": "2024-03-08T13:05:05.493312",
     "exception": false,
     "start_time": "2024-03-08T13:05:05.460550",
     "status": "completed"
    },
    "tags": []
   },
   "outputs": [
    {
     "data": {
      "text/plain": [
       "Bankrupt?                                                   False\n",
       " ROA(C) before interest and depreciation before interest    False\n",
       " ROA(A) before interest and % after tax                     False\n",
       " ROA(B) before interest and depreciation after tax          False\n",
       " Operating Gross Margin                                     False\n",
       "                                                            ...  \n",
       " Liability to Equity                                        False\n",
       " Degree of Financial Leverage (DFL)                         False\n",
       " Interest Coverage Ratio (Interest expense to EBIT)         False\n",
       " Net Income Flag                                            False\n",
       " Equity to Liability                                        False\n",
       "Length: 96, dtype: bool"
      ]
     },
     "execution_count": 10,
     "metadata": {},
     "output_type": "execute_result"
    }
   ],
   "source": [
    "data.isna().any()"
   ]
  },
  {
   "cell_type": "code",
   "execution_count": 11,
   "id": "ca35a97a",
   "metadata": {
    "execution": {
     "iopub.execute_input": "2024-03-08T13:05:05.535337Z",
     "iopub.status.busy": "2024-03-08T13:05:05.534257Z",
     "iopub.status.idle": "2024-03-08T13:05:05.578264Z",
     "shell.execute_reply": "2024-03-08T13:05:05.577515Z"
    },
    "papermill": {
     "duration": 0.067238,
     "end_time": "2024-03-08T13:05:05.580318",
     "exception": false,
     "start_time": "2024-03-08T13:05:05.513080",
     "status": "completed"
    },
    "tags": []
   },
   "outputs": [
    {
     "data": {
      "text/plain": [
       "False"
      ]
     },
     "execution_count": 11,
     "metadata": {},
     "output_type": "execute_result"
    }
   ],
   "source": [
    "data.duplicated().any()"
   ]
  },
  {
   "cell_type": "code",
   "execution_count": 12,
   "id": "db13c95a",
   "metadata": {
    "execution": {
     "iopub.execute_input": "2024-03-08T13:05:05.622280Z",
     "iopub.status.busy": "2024-03-08T13:05:05.621840Z",
     "iopub.status.idle": "2024-03-08T13:05:05.629404Z",
     "shell.execute_reply": "2024-03-08T13:05:05.628458Z"
    },
    "papermill": {
     "duration": 0.030953,
     "end_time": "2024-03-08T13:05:05.631426",
     "exception": false,
     "start_time": "2024-03-08T13:05:05.600473",
     "status": "completed"
    },
    "tags": []
   },
   "outputs": [
    {
     "data": {
      "text/plain": [
       "array([1, 0])"
      ]
     },
     "execution_count": 12,
     "metadata": {},
     "output_type": "execute_result"
    }
   ],
   "source": [
    "data['Bankrupt?'].unique()"
   ]
  },
  {
   "cell_type": "markdown",
   "id": "31fad4a0",
   "metadata": {
    "papermill": {
     "duration": 0.020837,
     "end_time": "2024-03-08T13:05:05.672602",
     "exception": false,
     "start_time": "2024-03-08T13:05:05.651765",
     "status": "completed"
    },
    "tags": []
   },
   "source": [
    "# DATA VISUALISATION"
   ]
  },
  {
   "cell_type": "code",
   "execution_count": 13,
   "id": "5aadfa4f",
   "metadata": {
    "execution": {
     "iopub.execute_input": "2024-03-08T13:05:05.715754Z",
     "iopub.status.busy": "2024-03-08T13:05:05.714825Z",
     "iopub.status.idle": "2024-03-08T13:05:06.076295Z",
     "shell.execute_reply": "2024-03-08T13:05:06.075271Z"
    },
    "papermill": {
     "duration": 0.385356,
     "end_time": "2024-03-08T13:05:06.078511",
     "exception": false,
     "start_time": "2024-03-08T13:05:05.693155",
     "status": "completed"
    },
    "tags": []
   },
   "outputs": [
    {
     "name": "stderr",
     "output_type": "stream",
     "text": [
      "/opt/conda/lib/python3.10/site-packages/seaborn/_oldcore.py:1119: FutureWarning:\n",
      "\n",
      "use_inf_as_na option is deprecated and will be removed in a future version. Convert inf values to NaN before operating instead.\n",
      "\n"
     ]
    },
    {
     "data": {
      "text/plain": [
       "<seaborn.axisgrid.FacetGrid at 0x7dd70db55510>"
      ]
     },
     "execution_count": 13,
     "metadata": {},
     "output_type": "execute_result"
    },
    {
     "data": {
      "image/png": "[encoded data removed]",
      "text/plain": [
       "<Figure size 500x500 with 1 Axes>"
      ]
     },
     "metadata": {},
     "output_type": "display_data"
    }
   ],
   "source": [
    "sns.displot(data['Bankrupt?'])"
   ]
  },
  {
   "cell_type": "markdown",
   "id": "21645bfa",
   "metadata": {
    "papermill": {
     "duration": 0.020522,
     "end_time": "2024-03-08T13:05:06.119863",
     "exception": false,
     "start_time": "2024-03-08T13:05:06.099341",
     "status": "completed"
    },
    "tags": []
   },
   "source": [
    "# **DATA PREPROCESSING**"
   ]
  },
  {
   "cell_type": "code",
   "execution_count": 14,
   "id": "c0ce2a16",
   "metadata": {
    "execution": {
     "iopub.execute_input": "2024-03-08T13:05:06.163974Z",
     "iopub.status.busy": "2024-03-08T13:05:06.163129Z",
     "iopub.status.idle": "2024-03-08T13:05:06.171971Z",
     "shell.execute_reply": "2024-03-08T13:05:06.171056Z"
    },
    "papermill": {
     "duration": 0.033343,
     "end_time": "2024-03-08T13:05:06.174263",
     "exception": false,
     "start_time": "2024-03-08T13:05:06.140920",
     "status": "completed"
    },
    "tags": []
   },
   "outputs": [],
   "source": [
    "x = data.drop('Bankrupt?', axis=1)\n",
    "y = data['Bankrupt?']"
   ]
  },
  {
   "cell_type": "code",
   "execution_count": 15,
   "id": "4c20f54a",
   "metadata": {
    "execution": {
     "iopub.execute_input": "2024-03-08T13:05:06.220316Z",
     "iopub.status.busy": "2024-03-08T13:05:06.219888Z",
     "iopub.status.idle": "2024-03-08T13:05:06.363470Z",
     "shell.execute_reply": "2024-03-08T13:05:06.362574Z"
    },
    "papermill": {
     "duration": 0.168513,
     "end_time": "2024-03-08T13:05:06.365956",
     "exception": false,
     "start_time": "2024-03-08T13:05:06.197443",
     "status": "completed"
    },
    "tags": []
   },
   "outputs": [],
   "source": [
    "from sklearn.preprocessing import LabelEncoder"
   ]
  },
  {
   "cell_type": "code",
   "execution_count": 16,
   "id": "4f840c83",
   "metadata": {
    "execution": {
     "iopub.execute_input": "2024-03-08T13:05:06.409619Z",
     "iopub.status.busy": "2024-03-08T13:05:06.409053Z",
     "iopub.status.idle": "2024-03-08T13:05:06.412818Z",
     "shell.execute_reply": "2024-03-08T13:05:06.412121Z"
    },
    "papermill": {
     "duration": 0.027841,
     "end_time": "2024-03-08T13:05:06.414869",
     "exception": false,
     "start_time": "2024-03-08T13:05:06.387028",
     "status": "completed"
    },
    "tags": []
   },
   "outputs": [],
   "source": [
    "encoder_x = LabelEncoder()"
   ]
  },
  {
   "cell_type": "code",
   "execution_count": 17,
   "id": "a5380ccc",
   "metadata": {
    "execution": {
     "iopub.execute_input": "2024-03-08T13:05:06.457763Z",
     "iopub.status.busy": "2024-03-08T13:05:06.457356Z",
     "iopub.status.idle": "2024-03-08T13:05:06.562879Z",
     "shell.execute_reply": "2024-03-08T13:05:06.561763Z"
    },
    "papermill": {
     "duration": 0.130404,
     "end_time": "2024-03-08T13:05:06.565513",
     "exception": false,
     "start_time": "2024-03-08T13:05:06.435109",
     "status": "completed"
    },
    "tags": []
   },
   "outputs": [],
   "source": [
    "for col in x.columns:\n",
    "    x[col]=encoder_x.fit_transform(x[col])"
   ]
  },
  {
   "cell_type": "code",
   "execution_count": 18,
   "id": "c2beeddd",
   "metadata": {
    "execution": {
     "iopub.execute_input": "2024-03-08T13:05:06.665884Z",
     "iopub.status.busy": "2024-03-08T13:05:06.665294Z",
     "iopub.status.idle": "2024-03-08T13:05:06.772812Z",
     "shell.execute_reply": "2024-03-08T13:05:06.771671Z"
    },
    "papermill": {
     "duration": 0.188324,
     "end_time": "2024-03-08T13:05:06.775450",
     "exception": false,
     "start_time": "2024-03-08T13:05:06.587126",
     "status": "completed"
    },
    "tags": []
   },
   "outputs": [],
   "source": [
    "from sklearn.model_selection import train_test_split"
   ]
  },
  {
   "cell_type": "code",
   "execution_count": 19,
   "id": "e1d54167",
   "metadata": {
    "execution": {
     "iopub.execute_input": "2024-03-08T13:05:06.819088Z",
     "iopub.status.busy": "2024-03-08T13:05:06.818689Z",
     "iopub.status.idle": "2024-03-08T13:05:06.838068Z",
     "shell.execute_reply": "2024-03-08T13:05:06.836987Z"
    },
    "papermill": {
     "duration": 0.044156,
     "end_time": "2024-03-08T13:05:06.840609",
     "exception": false,
     "start_time": "2024-03-08T13:05:06.796453",
     "status": "completed"
    },
    "tags": []
   },
   "outputs": [],
   "source": [
    "x_train,x_test,y_train,y_test = train_test_split(x,y,test_size=.3,shuffle=True,random_state=42)"
   ]
  },
  {
   "cell_type": "code",
   "execution_count": 20,
   "id": "5755593a",
   "metadata": {
    "execution": {
     "iopub.execute_input": "2024-03-08T13:05:06.884354Z",
     "iopub.status.busy": "2024-03-08T13:05:06.883937Z",
     "iopub.status.idle": "2024-03-08T13:05:06.890058Z",
     "shell.execute_reply": "2024-03-08T13:05:06.888969Z"
    },
    "papermill": {
     "duration": 0.030804,
     "end_time": "2024-03-08T13:05:06.892312",
     "exception": false,
     "start_time": "2024-03-08T13:05:06.861508",
     "status": "completed"
    },
    "tags": []
   },
   "outputs": [
    {
     "name": "stdout",
     "output_type": "stream",
     "text": [
      "x_train shape =  (4773, 95)\n",
      "y_train shape =  (4773,)\n",
      "x_test shape =  (2046, 95)\n",
      "y_test shape =  (2046,)\n"
     ]
    }
   ],
   "source": [
    "print(\"x_train shape = \", x_train.shape)\n",
    "print(\"y_train shape = \", y_train.shape)\n",
    "print(\"x_test shape = \", x_test.shape)\n",
    "print(\"y_test shape = \", y_test.shape)"
   ]
  },
  {
   "cell_type": "code",
   "execution_count": 21,
   "id": "b6fad567",
   "metadata": {
    "execution": {
     "iopub.execute_input": "2024-03-08T13:05:06.936326Z",
     "iopub.status.busy": "2024-03-08T13:05:06.935873Z",
     "iopub.status.idle": "2024-03-08T13:05:07.168766Z",
     "shell.execute_reply": "2024-03-08T13:05:07.167724Z"
    },
    "papermill": {
     "duration": 0.258938,
     "end_time": "2024-03-08T13:05:07.172439",
     "exception": false,
     "start_time": "2024-03-08T13:05:06.913501",
     "status": "completed"
    },
    "tags": []
   },
   "outputs": [
    {
     "data": {
      "image/png": "[encoded data removed]",
      "text/plain": [
       "<Figure size 1500x600 with 1 Axes>"
      ]
     },
     "metadata": {},
     "output_type": "display_data"
    }
   ],
   "source": [
    "shapes = {\n",
    "    'X_train': x_train.shape[0],\n",
    "    'y_train': y_train.shape[0],\n",
    "    'X_test': x_test.shape[0],\n",
    "    'y_test': y_test.shape[0]\n",
    "}\n",
    "plt.figure(figsize=(15, 6))\n",
    "plt.bar(shapes.keys(), shapes.values())\n",
    "plt.xlabel('Datasets')\n",
    "plt.ylabel('Number of instances')\n",
    "plt.title('Distribution of Training and Validation Sets')\n",
    "plt.show()"
   ]
  },
  {
   "cell_type": "markdown",
   "id": "3e8724de",
   "metadata": {
    "papermill": {
     "duration": 0.024413,
     "end_time": "2024-03-08T13:05:07.223198",
     "exception": false,
     "start_time": "2024-03-08T13:05:07.198785",
     "status": "completed"
    },
    "tags": []
   },
   "source": [
    "# **SCALING DATA**"
   ]
  },
  {
   "cell_type": "code",
   "execution_count": 22,
   "id": "5b3b6f3d",
   "metadata": {
    "execution": {
     "iopub.execute_input": "2024-03-08T13:05:07.268641Z",
     "iopub.status.busy": "2024-03-08T13:05:07.268186Z",
     "iopub.status.idle": "2024-03-08T13:05:07.272841Z",
     "shell.execute_reply": "2024-03-08T13:05:07.271800Z"
    },
    "papermill": {
     "duration": 0.029774,
     "end_time": "2024-03-08T13:05:07.275056",
     "exception": false,
     "start_time": "2024-03-08T13:05:07.245282",
     "status": "completed"
    },
    "tags": []
   },
   "outputs": [],
   "source": [
    "from sklearn.preprocessing import StandardScaler"
   ]
  },
  {
   "cell_type": "code",
   "execution_count": 23,
   "id": "19571ef2",
   "metadata": {
    "execution": {
     "iopub.execute_input": "2024-03-08T13:05:07.331527Z",
     "iopub.status.busy": "2024-03-08T13:05:07.330981Z",
     "iopub.status.idle": "2024-03-08T13:05:07.337924Z",
     "shell.execute_reply": "2024-03-08T13:05:07.336562Z"
    },
    "papermill": {
     "duration": 0.040557,
     "end_time": "2024-03-08T13:05:07.340632",
     "exception": false,
     "start_time": "2024-03-08T13:05:07.300075",
     "status": "completed"
    },
    "tags": []
   },
   "outputs": [],
   "source": [
    "scaler = StandardScaler()"
   ]
  },
  {
   "cell_type": "code",
   "execution_count": 24,
   "id": "da19cd2b",
   "metadata": {
    "execution": {
     "iopub.execute_input": "2024-03-08T13:05:07.398388Z",
     "iopub.status.busy": "2024-03-08T13:05:07.397708Z",
     "iopub.status.idle": "2024-03-08T13:05:07.453788Z",
     "shell.execute_reply": "2024-03-08T13:05:07.452563Z"
    },
    "papermill": {
     "duration": 0.088962,
     "end_time": "2024-03-08T13:05:07.456799",
     "exception": false,
     "start_time": "2024-03-08T13:05:07.367837",
     "status": "completed"
    },
    "tags": []
   },
   "outputs": [],
   "source": [
    "x_train=scaler.fit_transform(x_train)\n",
    "x_test=scaler.fit_transform(x_test)"
   ]
  },
  {
   "cell_type": "markdown",
   "id": "ec7a08b0",
   "metadata": {
    "papermill": {
     "duration": 0.021368,
     "end_time": "2024-03-08T13:05:07.506499",
     "exception": false,
     "start_time": "2024-03-08T13:05:07.485131",
     "status": "completed"
    },
    "tags": []
   },
   "source": [
    "# **LOGISTIC REGRESSION MODEL**"
   ]
  },
  {
   "cell_type": "code",
   "execution_count": 25,
   "id": "32aa208a",
   "metadata": {
    "execution": {
     "iopub.execute_input": "2024-03-08T13:05:07.552173Z",
     "iopub.status.busy": "2024-03-08T13:05:07.551492Z",
     "iopub.status.idle": "2024-03-08T13:05:07.652819Z",
     "shell.execute_reply": "2024-03-08T13:05:07.651759Z"
    },
    "papermill": {
     "duration": 0.127526,
     "end_time": "2024-03-08T13:05:07.655764",
     "exception": false,
     "start_time": "2024-03-08T13:05:07.528238",
     "status": "completed"
    },
    "tags": []
   },
   "outputs": [],
   "source": [
    "from sklearn.linear_model import LogisticRegression"
   ]
  },
  {
   "cell_type": "code",
   "execution_count": 26,
   "id": "52df7dec",
   "metadata": {
    "execution": {
     "iopub.execute_input": "2024-03-08T13:05:07.706083Z",
     "iopub.status.busy": "2024-03-08T13:05:07.705006Z",
     "iopub.status.idle": "2024-03-08T13:05:07.709962Z",
     "shell.execute_reply": "2024-03-08T13:05:07.709260Z"
    },
    "papermill": {
     "duration": 0.030021,
     "end_time": "2024-03-08T13:05:07.711988",
     "exception": false,
     "start_time": "2024-03-08T13:05:07.681967",
     "status": "completed"
    },
    "tags": []
   },
   "outputs": [],
   "source": [
    "lr_model=LogisticRegression()"
   ]
  },
  {
   "cell_type": "code",
   "execution_count": 27,
   "id": "5f83f438",
   "metadata": {
    "execution": {
     "iopub.execute_input": "2024-03-08T13:05:07.757910Z",
     "iopub.status.busy": "2024-03-08T13:05:07.756835Z",
     "iopub.status.idle": "2024-03-08T13:05:07.901297Z",
     "shell.execute_reply": "2024-03-08T13:05:07.899805Z"
    },
    "papermill": {
     "duration": 0.172504,
     "end_time": "2024-03-08T13:05:07.906236",
     "exception": false,
     "start_time": "2024-03-08T13:05:07.733732",
     "status": "completed"
    },
    "tags": []
   },
   "outputs": [
    {
     "name": "stderr",
     "output_type": "stream",
     "text": [
      "/opt/conda/lib/python3.10/site-packages/sklearn/linear_model/_logistic.py:458: ConvergenceWarning:\n",
      "\n",
      "lbfgs failed to converge (status=1):\n",
      "STOP: TOTAL NO. of ITERATIONS REACHED LIMIT.\n",
      "\n",
      "Increase the number of iterations (max_iter) or scale the data as shown in:\n",
      "    https://scikit-learn.org/stable/modules/preprocessing.html\n",
      "Please also refer to the documentation for alternative solver options:\n",
      "    https://scikit-learn.org/stable/modules/linear_model.html#logistic-regression\n",
      "\n"
     ]
    },
    {
     "data": {
      "text/html": [
       "<style>#sk-container-id-1 {color: black;background-color: white;}#sk-container-id-1 pre{padding: 0;}#sk-container-id-1 div.sk-toggleable {background-color: white;}#sk-container-id-1 label.sk-toggleable__label {cursor: pointer;display: block;width: 100%;margin-bottom: 0;padding: 0.3em;box-sizing: border-box;text-align: center;}#sk-container-id-1 label.sk-toggleable__label-arrow:before {content: \"▸\";float: left;margin-right: 0.25em;color: #696969;}#sk-container-id-1 label.sk-toggleable__label-arrow:hover:before {color: black;}#sk-container-id-1 div.sk-estimator:hover label.sk-toggleable__label-arrow:before {color: black;}#sk-container-id-1 div.sk-toggleable__content {max-height: 0;max-width: 0;overflow: hidden;text-align: left;background-color: #f0f8ff;}#sk-container-id-1 div.sk-toggleable__content pre {margin: 0.2em;color: black;border-radius: 0.25em;background-color: #f0f8ff;}#sk-container-id-1 input.sk-toggleable__control:checked~div.sk-toggleable__content {max-height: 200px;max-width: 100%;overflow: auto;}#sk-container-id-1 input.sk-toggleable__control:checked~label.sk-toggleable__label-arrow:before {content: \"▾\";}#sk-container-id-1 div.sk-estimator input.sk-toggleable__control:checked~label.sk-toggleable__label {background-color: #d4ebff;}#sk-container-id-1 div.sk-label input.sk-toggleable__control:checked~label.sk-toggleable__label {background-color: #d4ebff;}#sk-container-id-1 input.sk-hidden--visually {border: 0;clip: rect(1px 1px 1px 1px);clip: rect(1px, 1px, 1px, 1px);height: 1px;margin: -1px;overflow: hidden;padding: 0;position: absolute;width: 1px;}#sk-container-id-1 div.sk-estimator {font-family: monospace;background-color: #f0f8ff;border: 1px dotted black;border-radius: 0.25em;box-sizing: border-box;margin-bottom: 0.5em;}#sk-container-id-1 div.sk-estimator:hover {background-color: #d4ebff;}#sk-container-id-1 div.sk-parallel-item::after {content: \"\";width: 100%;border-bottom: 1px solid gray;flex-grow: 1;}#sk-container-id-1 div.sk-label:hover label.sk-toggleable__label {background-color: #d4ebff;}#sk-container-id-1 div.sk-serial::before {content: \"\";position: absolute;border-left: 1px solid gray;box-sizing: border-box;top: 0;bottom: 0;left: 50%;z-index: 0;}#sk-container-id-1 div.sk-serial {display: flex;flex-direction: column;align-items: center;background-color: white;padding-right: 0.2em;padding-left: 0.2em;position: relative;}#sk-container-id-1 div.sk-item {position: relative;z-index: 1;}#sk-container-id-1 div.sk-parallel {display: flex;align-items: stretch;justify-content: center;background-color: white;position: relative;}#sk-container-id-1 div.sk-item::before, #sk-container-id-1 div.sk-parallel-item::before {content: \"\";position: absolute;border-left: 1px solid gray;box-sizing: border-box;top: 0;bottom: 0;left: 50%;z-index: -1;}#sk-container-id-1 div.sk-parallel-item {display: flex;flex-direction: column;z-index: 1;position: relative;background-color: white;}#sk-container-id-1 div.sk-parallel-item:first-child::after {align-self: flex-end;width: 50%;}#sk-container-id-1 div.sk-parallel-item:last-child::after {align-self: flex-start;width: 50%;}#sk-container-id-1 div.sk-parallel-item:only-child::after {width: 0;}#sk-container-id-1 div.sk-dashed-wrapped {border: 1px dashed gray;margin: 0 0.4em 0.5em 0.4em;box-sizing: border-box;padding-bottom: 0.4em;background-color: white;}#sk-container-id-1 div.sk-label label {font-family: monospace;font-weight: bold;display: inline-block;line-height: 1.2em;}#sk-container-id-1 div.sk-label-container {text-align: center;}#sk-container-id-1 div.sk-container {/* jupyter's `normalize.less` sets `[hidden] { display: none; }` but bootstrap.min.css set `[hidden] { display: none !important; }` so we also need the `!important` here to be able to override the default hidden behavior on the sphinx rendered scikit-learn.org. See: https://github.com/scikit-learn/scikit-learn/issues/21755 */display: inline-block !important;position: relative;}#sk-container-id-1 div.sk-text-repr-fallback {display: none;}</style><div id=\"sk-container-id-1\" class=\"sk-top-container\"><div class=\"sk-text-repr-fallback\"><pre>LogisticRegression()</pre><b>In a Jupyter environment, please rerun this cell to show the HTML representation or trust the notebook. <br />On GitHub, the HTML representation is unable to render, please try loading this page with nbviewer.org.</b></div><div class=\"sk-container\" hidden><div class=\"sk-item\"><div class=\"sk-estimator sk-toggleable\"><input class=\"sk-toggleable__control sk-hidden--visually\" id=\"sk-estimator-id-1\" type=\"checkbox\" checked><label for=\"sk-estimator-id-1\" class=\"sk-toggleable__label sk-toggleable__label-arrow\">LogisticRegression</label><div class=\"sk-toggleable__content\"><pre>LogisticRegression()</pre></div></div></div></div></div>"
      ],
      "text/plain": [
       "LogisticRegression()"
      ]
     },
     "execution_count": 27,
     "metadata": {},
     "output_type": "execute_result"
    }
   ],
   "source": [
    "lr_model.fit(x_train,y_train)"
   ]
  },
  {
   "cell_type": "code",
   "execution_count": 28,
   "id": "2796f9d5",
   "metadata": {
    "execution": {
     "iopub.execute_input": "2024-03-08T13:05:08.002584Z",
     "iopub.status.busy": "2024-03-08T13:05:08.001877Z",
     "iopub.status.idle": "2024-03-08T13:05:08.013448Z",
     "shell.execute_reply": "2024-03-08T13:05:08.012058Z"
    },
    "papermill": {
     "duration": 0.06478,
     "end_time": "2024-03-08T13:05:08.018172",
     "exception": false,
     "start_time": "2024-03-08T13:05:07.953392",
     "status": "completed"
    },
    "tags": []
   },
   "outputs": [],
   "source": [
    "y_pred=lr_model.predict(x_test)"
   ]
  },
  {
   "cell_type": "code",
   "execution_count": 29,
   "id": "e940eb90",
   "metadata": {
    "execution": {
     "iopub.execute_input": "2024-03-08T13:05:08.116829Z",
     "iopub.status.busy": "2024-03-08T13:05:08.116135Z",
     "iopub.status.idle": "2024-03-08T13:05:08.131006Z",
     "shell.execute_reply": "2024-03-08T13:05:08.129335Z"
    },
    "papermill": {
     "duration": 0.068018,
     "end_time": "2024-03-08T13:05:08.133974",
     "exception": false,
     "start_time": "2024-03-08T13:05:08.065956",
     "status": "completed"
    },
    "tags": []
   },
   "outputs": [
    {
     "data": {
      "text/plain": [
       "array([0, 0, 0, ..., 0, 0, 0])"
      ]
     },
     "execution_count": 29,
     "metadata": {},
     "output_type": "execute_result"
    }
   ],
   "source": [
    "y_pred"
   ]
  },
  {
   "cell_type": "code",
   "execution_count": 30,
   "id": "c6f5c8a6",
   "metadata": {
    "execution": {
     "iopub.execute_input": "2024-03-08T13:05:08.181770Z",
     "iopub.status.busy": "2024-03-08T13:05:08.181378Z",
     "iopub.status.idle": "2024-03-08T13:05:08.186166Z",
     "shell.execute_reply": "2024-03-08T13:05:08.185138Z"
    },
    "papermill": {
     "duration": 0.031892,
     "end_time": "2024-03-08T13:05:08.188523",
     "exception": false,
     "start_time": "2024-03-08T13:05:08.156631",
     "status": "completed"
    },
    "tags": []
   },
   "outputs": [],
   "source": [
    "from sklearn.metrics import confusion_matrix"
   ]
  },
  {
   "cell_type": "code",
   "execution_count": 31,
   "id": "142e6355",
   "metadata": {
    "execution": {
     "iopub.execute_input": "2024-03-08T13:05:08.236416Z",
     "iopub.status.busy": "2024-03-08T13:05:08.235760Z",
     "iopub.status.idle": "2024-03-08T13:05:08.241998Z",
     "shell.execute_reply": "2024-03-08T13:05:08.241262Z"
    },
    "papermill": {
     "duration": 0.032336,
     "end_time": "2024-03-08T13:05:08.244082",
     "exception": false,
     "start_time": "2024-03-08T13:05:08.211746",
     "status": "completed"
    },
    "tags": []
   },
   "outputs": [],
   "source": [
    "con= confusion_matrix(y_test,y_pred) # Evaluation of Model Performance & Sensitivity and Specificity Analysis"
   ]
  },
  {
   "cell_type": "code",
   "execution_count": 32,
   "id": "777432bf",
   "metadata": {
    "execution": {
     "iopub.execute_input": "2024-03-08T13:05:08.290173Z",
     "iopub.status.busy": "2024-03-08T13:05:08.289548Z",
     "iopub.status.idle": "2024-03-08T13:05:08.533744Z",
     "shell.execute_reply": "2024-03-08T13:05:08.532393Z"
    },
    "papermill": {
     "duration": 0.270861,
     "end_time": "2024-03-08T13:05:08.536672",
     "exception": false,
     "start_time": "2024-03-08T13:05:08.265811",
     "status": "completed"
    },
    "tags": []
   },
   "outputs": [
    {
     "data": {
      "text/plain": [
       "<Axes: >"
      ]
     },
     "execution_count": 32,
     "metadata": {},
     "output_type": "execute_result"
    },
    {
     "data": {
      "image/png": "[encoded data removed]",
      "text/plain": [
       "<Figure size 640x480 with 2 Axes>"
      ]
     },
     "metadata": {},
     "output_type": "display_data"
    }
   ],
   "source": [
    "sns.heatmap(con, annot=True, cmap='viridis', cbar=True) # heatmap for Matrix Data Representation"
   ]
  },
  {
   "cell_type": "code",
   "execution_count": 33,
   "id": "4616787b",
   "metadata": {
    "execution": {
     "iopub.execute_input": "2024-03-08T13:05:08.584164Z",
     "iopub.status.busy": "2024-03-08T13:05:08.583792Z",
     "iopub.status.idle": "2024-03-08T13:05:08.588660Z",
     "shell.execute_reply": "2024-03-08T13:05:08.587608Z"
    },
    "papermill": {
     "duration": 0.03105,
     "end_time": "2024-03-08T13:05:08.590750",
     "exception": false,
     "start_time": "2024-03-08T13:05:08.559700",
     "status": "completed"
    },
    "tags": []
   },
   "outputs": [],
   "source": [
    "from sklearn.metrics import classification_report # for Precision and Recall Analysis"
   ]
  },
  {
   "cell_type": "code",
   "execution_count": 34,
   "id": "caf38033",
   "metadata": {
    "execution": {
     "iopub.execute_input": "2024-03-08T13:05:08.637392Z",
     "iopub.status.busy": "2024-03-08T13:05:08.636982Z",
     "iopub.status.idle": "2024-03-08T13:05:08.652758Z",
     "shell.execute_reply": "2024-03-08T13:05:08.651489Z"
    },
    "papermill": {
     "duration": 0.042152,
     "end_time": "2024-03-08T13:05:08.655063",
     "exception": false,
     "start_time": "2024-03-08T13:05:08.612911",
     "status": "completed"
    },
    "tags": []
   },
   "outputs": [
    {
     "name": "stdout",
     "output_type": "stream",
     "text": [
      "classification_report is                precision    recall  f1-score   support\n",
      "\n",
      "           0       0.97      1.00      0.98      1968\n",
      "           1       0.62      0.19      0.29        78\n",
      "\n",
      "    accuracy                           0.96      2046\n",
      "   macro avg       0.80      0.59      0.64      2046\n",
      "weighted avg       0.96      0.96      0.96      2046\n",
      "\n"
     ]
    }
   ],
   "source": [
    "print(\"classification_report is \",classification_report(y_test ,y_pred)) "
   ]
  },
  {
   "cell_type": "markdown",
   "id": "00c9d3cb",
   "metadata": {
    "papermill": {
     "duration": 0.02311,
     "end_time": "2024-03-08T13:05:08.701079",
     "exception": false,
     "start_time": "2024-03-08T13:05:08.677969",
     "status": "completed"
    },
    "tags": []
   },
   "source": [
    "# **SVM**"
   ]
  },
  {
   "cell_type": "code",
   "execution_count": 35,
   "id": "94e218c0",
   "metadata": {
    "execution": {
     "iopub.execute_input": "2024-03-08T13:05:08.748377Z",
     "iopub.status.busy": "2024-03-08T13:05:08.747960Z",
     "iopub.status.idle": "2024-03-08T13:05:08.752642Z",
     "shell.execute_reply": "2024-03-08T13:05:08.751675Z"
    },
    "papermill": {
     "duration": 0.031096,
     "end_time": "2024-03-08T13:05:08.754843",
     "exception": false,
     "start_time": "2024-03-08T13:05:08.723747",
     "status": "completed"
    },
    "tags": []
   },
   "outputs": [],
   "source": [
    "from sklearn.svm import SVC"
   ]
  },
  {
   "cell_type": "code",
   "execution_count": 36,
   "id": "234dfa1c",
   "metadata": {
    "execution": {
     "iopub.execute_input": "2024-03-08T13:05:08.802303Z",
     "iopub.status.busy": "2024-03-08T13:05:08.801209Z",
     "iopub.status.idle": "2024-03-08T13:05:08.806165Z",
     "shell.execute_reply": "2024-03-08T13:05:08.805195Z"
    },
    "papermill": {
     "duration": 0.030891,
     "end_time": "2024-03-08T13:05:08.808292",
     "exception": false,
     "start_time": "2024-03-08T13:05:08.777401",
     "status": "completed"
    },
    "tags": []
   },
   "outputs": [],
   "source": [
    "from sklearn.svm import SVC ## call model "
   ]
  },
  {
   "cell_type": "code",
   "execution_count": 37,
   "id": "54cb29ae",
   "metadata": {
    "execution": {
     "iopub.execute_input": "2024-03-08T13:05:08.855728Z",
     "iopub.status.busy": "2024-03-08T13:05:08.855342Z",
     "iopub.status.idle": "2024-03-08T13:05:08.860009Z",
     "shell.execute_reply": "2024-03-08T13:05:08.858898Z"
    },
    "papermill": {
     "duration": 0.031178,
     "end_time": "2024-03-08T13:05:08.862319",
     "exception": false,
     "start_time": "2024-03-08T13:05:08.831141",
     "status": "completed"
    },
    "tags": []
   },
   "outputs": [],
   "source": [
    "svm_model =SVC()"
   ]
  },
  {
   "cell_type": "code",
   "execution_count": 38,
   "id": "b12f346d",
   "metadata": {
    "execution": {
     "iopub.execute_input": "2024-03-08T13:05:08.909880Z",
     "iopub.status.busy": "2024-03-08T13:05:08.909491Z",
     "iopub.status.idle": "2024-03-08T13:05:09.179125Z",
     "shell.execute_reply": "2024-03-08T13:05:09.177973Z"
    },
    "papermill": {
     "duration": 0.296269,
     "end_time": "2024-03-08T13:05:09.181501",
     "exception": false,
     "start_time": "2024-03-08T13:05:08.885232",
     "status": "completed"
    },
    "tags": []
   },
   "outputs": [
    {
     "data": {
      "text/html": [
       "<style>#sk-container-id-2 {color: black;background-color: white;}#sk-container-id-2 pre{padding: 0;}#sk-container-id-2 div.sk-toggleable {background-color: white;}#sk-container-id-2 label.sk-toggleable__label {cursor: pointer;display: block;width: 100%;margin-bottom: 0;padding: 0.3em;box-sizing: border-box;text-align: center;}#sk-container-id-2 label.sk-toggleable__label-arrow:before {content: \"▸\";float: left;margin-right: 0.25em;color: #696969;}#sk-container-id-2 label.sk-toggleable__label-arrow:hover:before {color: black;}#sk-container-id-2 div.sk-estimator:hover label.sk-toggleable__label-arrow:before {color: black;}#sk-container-id-2 div.sk-toggleable__content {max-height: 0;max-width: 0;overflow: hidden;text-align: left;background-color: #f0f8ff;}#sk-container-id-2 div.sk-toggleable__content pre {margin: 0.2em;color: black;border-radius: 0.25em;background-color: #f0f8ff;}#sk-container-id-2 input.sk-toggleable__control:checked~div.sk-toggleable__content {max-height: 200px;max-width: 100%;overflow: auto;}#sk-container-id-2 input.sk-toggleable__control:checked~label.sk-toggleable__label-arrow:before {content: \"▾\";}#sk-container-id-2 div.sk-estimator input.sk-toggleable__control:checked~label.sk-toggleable__label {background-color: #d4ebff;}#sk-container-id-2 div.sk-label input.sk-toggleable__control:checked~label.sk-toggleable__label {background-color: #d4ebff;}#sk-container-id-2 input.sk-hidden--visually {border: 0;clip: rect(1px 1px 1px 1px);clip: rect(1px, 1px, 1px, 1px);height: 1px;margin: -1px;overflow: hidden;padding: 0;position: absolute;width: 1px;}#sk-container-id-2 div.sk-estimator {font-family: monospace;background-color: #f0f8ff;border: 1px dotted black;border-radius: 0.25em;box-sizing: border-box;margin-bottom: 0.5em;}#sk-container-id-2 div.sk-estimator:hover {background-color: #d4ebff;}#sk-container-id-2 div.sk-parallel-item::after {content: \"\";width: 100%;border-bottom: 1px solid gray;flex-grow: 1;}#sk-container-id-2 div.sk-label:hover label.sk-toggleable__label {background-color: #d4ebff;}#sk-container-id-2 div.sk-serial::before {content: \"\";position: absolute;border-left: 1px solid gray;box-sizing: border-box;top: 0;bottom: 0;left: 50%;z-index: 0;}#sk-container-id-2 div.sk-serial {display: flex;flex-direction: column;align-items: center;background-color: white;padding-right: 0.2em;padding-left: 0.2em;position: relative;}#sk-container-id-2 div.sk-item {position: relative;z-index: 1;}#sk-container-id-2 div.sk-parallel {display: flex;align-items: stretch;justify-content: center;background-color: white;position: relative;}#sk-container-id-2 div.sk-item::before, #sk-container-id-2 div.sk-parallel-item::before {content: \"\";position: absolute;border-left: 1px solid gray;box-sizing: border-box;top: 0;bottom: 0;left: 50%;z-index: -1;}#sk-container-id-2 div.sk-parallel-item {display: flex;flex-direction: column;z-index: 1;position: relative;background-color: white;}#sk-container-id-2 div.sk-parallel-item:first-child::after {align-self: flex-end;width: 50%;}#sk-container-id-2 div.sk-parallel-item:last-child::after {align-self: flex-start;width: 50%;}#sk-container-id-2 div.sk-parallel-item:only-child::after {width: 0;}#sk-container-id-2 div.sk-dashed-wrapped {border: 1px dashed gray;margin: 0 0.4em 0.5em 0.4em;box-sizing: border-box;padding-bottom: 0.4em;background-color: white;}#sk-container-id-2 div.sk-label label {font-family: monospace;font-weight: bold;display: inline-block;line-height: 1.2em;}#sk-container-id-2 div.sk-label-container {text-align: center;}#sk-container-id-2 div.sk-container {/* jupyter's `normalize.less` sets `[hidden] { display: none; }` but bootstrap.min.css set `[hidden] { display: none !important; }` so we also need the `!important` here to be able to override the default hidden behavior on the sphinx rendered scikit-learn.org. See: https://github.com/scikit-learn/scikit-learn/issues/21755 */display: inline-block !important;position: relative;}#sk-container-id-2 div.sk-text-repr-fallback {display: none;}</style><div id=\"sk-container-id-2\" class=\"sk-top-container\"><div class=\"sk-text-repr-fallback\"><pre>SVC()</pre><b>In a Jupyter environment, please rerun this cell to show the HTML representation or trust the notebook. <br />On GitHub, the HTML representation is unable to render, please try loading this page with nbviewer.org.</b></div><div class=\"sk-container\" hidden><div class=\"sk-item\"><div class=\"sk-estimator sk-toggleable\"><input class=\"sk-toggleable__control sk-hidden--visually\" id=\"sk-estimator-id-2\" type=\"checkbox\" checked><label for=\"sk-estimator-id-2\" class=\"sk-toggleable__label sk-toggleable__label-arrow\">SVC</label><div class=\"sk-toggleable__content\"><pre>SVC()</pre></div></div></div></div></div>"
      ],
      "text/plain": [
       "SVC()"
      ]
     },
     "execution_count": 38,
     "metadata": {},
     "output_type": "execute_result"
    }
   ],
   "source": [
    "svm_model.fit(x_train, y_train)"
   ]
  },
  {
   "cell_type": "code",
   "execution_count": 39,
   "id": "81a77d57",
   "metadata": {
    "execution": {
     "iopub.execute_input": "2024-03-08T13:05:09.229903Z",
     "iopub.status.busy": "2024-03-08T13:05:09.229543Z",
     "iopub.status.idle": "2024-03-08T13:05:09.372071Z",
     "shell.execute_reply": "2024-03-08T13:05:09.371082Z"
    },
    "papermill": {
     "duration": 0.170319,
     "end_time": "2024-03-08T13:05:09.375061",
     "exception": false,
     "start_time": "2024-03-08T13:05:09.204742",
     "status": "completed"
    },
    "tags": []
   },
   "outputs": [],
   "source": [
    "y_pred = svm_model.predict(x_test)"
   ]
  },
  {
   "cell_type": "code",
   "execution_count": 40,
   "id": "f4043199",
   "metadata": {
    "execution": {
     "iopub.execute_input": "2024-03-08T13:05:09.424042Z",
     "iopub.status.busy": "2024-03-08T13:05:09.423664Z",
     "iopub.status.idle": "2024-03-08T13:05:09.430263Z",
     "shell.execute_reply": "2024-03-08T13:05:09.429280Z"
    },
    "papermill": {
     "duration": 0.033683,
     "end_time": "2024-03-08T13:05:09.432626",
     "exception": false,
     "start_time": "2024-03-08T13:05:09.398943",
     "status": "completed"
    },
    "tags": []
   },
   "outputs": [
    {
     "data": {
      "text/plain": [
       "array([0, 0, 0, ..., 0, 0, 0])"
      ]
     },
     "execution_count": 40,
     "metadata": {},
     "output_type": "execute_result"
    }
   ],
   "source": [
    "y_pred"
   ]
  },
  {
   "cell_type": "code",
   "execution_count": 41,
   "id": "3f7a101d",
   "metadata": {
    "execution": {
     "iopub.execute_input": "2024-03-08T13:05:09.482267Z",
     "iopub.status.busy": "2024-03-08T13:05:09.481288Z",
     "iopub.status.idle": "2024-03-08T13:05:09.497638Z",
     "shell.execute_reply": "2024-03-08T13:05:09.496426Z"
    },
    "papermill": {
     "duration": 0.043164,
     "end_time": "2024-03-08T13:05:09.499773",
     "exception": false,
     "start_time": "2024-03-08T13:05:09.456609",
     "status": "completed"
    },
    "tags": []
   },
   "outputs": [
    {
     "name": "stdout",
     "output_type": "stream",
     "text": [
      "classification_report is                precision    recall  f1-score   support\n",
      "\n",
      "           0       0.96      1.00      0.98      1968\n",
      "           1       1.00      0.01      0.03        78\n",
      "\n",
      "    accuracy                           0.96      2046\n",
      "   macro avg       0.98      0.51      0.50      2046\n",
      "weighted avg       0.96      0.96      0.94      2046\n",
      "\n"
     ]
    }
   ],
   "source": [
    "print(\"classification_report is \",classification_report(y_test ,y_pred)) "
   ]
  },
  {
   "cell_type": "markdown",
   "id": "225e6430",
   "metadata": {
    "papermill": {
     "duration": 0.023263,
     "end_time": "2024-03-08T13:05:09.546837",
     "exception": false,
     "start_time": "2024-03-08T13:05:09.523574",
     "status": "completed"
    },
    "tags": []
   },
   "source": [
    "# **DECISION TREE MODEL**"
   ]
  },
  {
   "cell_type": "code",
   "execution_count": 42,
   "id": "49d844e3",
   "metadata": {
    "execution": {
     "iopub.execute_input": "2024-03-08T13:05:09.595257Z",
     "iopub.status.busy": "2024-03-08T13:05:09.594849Z",
     "iopub.status.idle": "2024-03-08T13:05:09.688890Z",
     "shell.execute_reply": "2024-03-08T13:05:09.687959Z"
    },
    "papermill": {
     "duration": 0.121201,
     "end_time": "2024-03-08T13:05:09.691524",
     "exception": false,
     "start_time": "2024-03-08T13:05:09.570323",
     "status": "completed"
    },
    "tags": []
   },
   "outputs": [],
   "source": [
    "from sklearn.tree import DecisionTreeClassifier"
   ]
  },
  {
   "cell_type": "code",
   "execution_count": 43,
   "id": "262c7998",
   "metadata": {
    "execution": {
     "iopub.execute_input": "2024-03-08T13:05:09.740180Z",
     "iopub.status.busy": "2024-03-08T13:05:09.739360Z",
     "iopub.status.idle": "2024-03-08T13:05:09.744195Z",
     "shell.execute_reply": "2024-03-08T13:05:09.743107Z"
    },
    "papermill": {
     "duration": 0.03111,
     "end_time": "2024-03-08T13:05:09.746388",
     "exception": false,
     "start_time": "2024-03-08T13:05:09.715278",
     "status": "completed"
    },
    "tags": []
   },
   "outputs": [],
   "source": [
    "dt_model = DecisionTreeClassifier()"
   ]
  },
  {
   "cell_type": "code",
   "execution_count": 44,
   "id": "f62b9778",
   "metadata": {
    "execution": {
     "iopub.execute_input": "2024-03-08T13:05:09.793721Z",
     "iopub.status.busy": "2024-03-08T13:05:09.793323Z",
     "iopub.status.idle": "2024-03-08T13:05:09.798454Z",
     "shell.execute_reply": "2024-03-08T13:05:09.797291Z"
    },
    "papermill": {
     "duration": 0.031372,
     "end_time": "2024-03-08T13:05:09.800730",
     "exception": false,
     "start_time": "2024-03-08T13:05:09.769358",
     "status": "completed"
    },
    "tags": []
   },
   "outputs": [],
   "source": [
    "from sklearn.model_selection import GridSearchCV"
   ]
  },
  {
   "cell_type": "code",
   "execution_count": 45,
   "id": "10cd5a6d",
   "metadata": {
    "execution": {
     "iopub.execute_input": "2024-03-08T13:05:09.849159Z",
     "iopub.status.busy": "2024-03-08T13:05:09.848755Z",
     "iopub.status.idle": "2024-03-08T13:05:09.854287Z",
     "shell.execute_reply": "2024-03-08T13:05:09.853193Z"
    },
    "papermill": {
     "duration": 0.032725,
     "end_time": "2024-03-08T13:05:09.856843",
     "exception": false,
     "start_time": "2024-03-08T13:05:09.824118",
     "status": "completed"
    },
    "tags": []
   },
   "outputs": [],
   "source": [
    "params = {\n",
    "    'criterion' : ['gini', 'entropy'],\n",
    "    'max_depth' : [5,10,20,25],\n",
    "    'min_samples_leaf' : [10,20,30,40]\n",
    "}"
   ]
  },
  {
   "cell_type": "code",
   "execution_count": 46,
   "id": "2a689b47",
   "metadata": {
    "execution": {
     "iopub.execute_input": "2024-03-08T13:05:09.906868Z",
     "iopub.status.busy": "2024-03-08T13:05:09.905813Z",
     "iopub.status.idle": "2024-03-08T13:05:09.911316Z",
     "shell.execute_reply": "2024-03-08T13:05:09.910244Z"
    },
    "papermill": {
     "duration": 0.033083,
     "end_time": "2024-03-08T13:05:09.913537",
     "exception": false,
     "start_time": "2024-03-08T13:05:09.880454",
     "status": "completed"
    },
    "tags": []
   },
   "outputs": [],
   "source": [
    "grid_search = GridSearchCV(dt_model, params, cv = 5 )"
   ]
  },
  {
   "cell_type": "code",
   "execution_count": 47,
   "id": "de2dcd31",
   "metadata": {
    "execution": {
     "iopub.execute_input": "2024-03-08T13:05:09.963092Z",
     "iopub.status.busy": "2024-03-08T13:05:09.962670Z",
     "iopub.status.idle": "2024-03-08T13:05:51.830358Z",
     "shell.execute_reply": "2024-03-08T13:05:51.829281Z"
    },
    "papermill": {
     "duration": 41.918999,
     "end_time": "2024-03-08T13:05:51.856588",
     "exception": false,
     "start_time": "2024-03-08T13:05:09.937589",
     "status": "completed"
    },
    "tags": []
   },
   "outputs": [
    {
     "data": {
      "text/html": [
       "<style>#sk-container-id-3 {color: black;background-color: white;}#sk-container-id-3 pre{padding: 0;}#sk-container-id-3 div.sk-toggleable {background-color: white;}#sk-container-id-3 label.sk-toggleable__label {cursor: pointer;display: block;width: 100%;margin-bottom: 0;padding: 0.3em;box-sizing: border-box;text-align: center;}#sk-container-id-3 label.sk-toggleable__label-arrow:before {content: \"▸\";float: left;margin-right: 0.25em;color: #696969;}#sk-container-id-3 label.sk-toggleable__label-arrow:hover:before {color: black;}#sk-container-id-3 div.sk-estimator:hover label.sk-toggleable__label-arrow:before {color: black;}#sk-container-id-3 div.sk-toggleable__content {max-height: 0;max-width: 0;overflow: hidden;text-align: left;background-color: #f0f8ff;}#sk-container-id-3 div.sk-toggleable__content pre {margin: 0.2em;color: black;border-radius: 0.25em;background-color: #f0f8ff;}#sk-container-id-3 input.sk-toggleable__control:checked~div.sk-toggleable__content {max-height: 200px;max-width: 100%;overflow: auto;}#sk-container-id-3 input.sk-toggleable__control:checked~label.sk-toggleable__label-arrow:before {content: \"▾\";}#sk-container-id-3 div.sk-estimator input.sk-toggleable__control:checked~label.sk-toggleable__label {background-color: #d4ebff;}#sk-container-id-3 div.sk-label input.sk-toggleable__control:checked~label.sk-toggleable__label {background-color: #d4ebff;}#sk-container-id-3 input.sk-hidden--visually {border: 0;clip: rect(1px 1px 1px 1px);clip: rect(1px, 1px, 1px, 1px);height: 1px;margin: -1px;overflow: hidden;padding: 0;position: absolute;width: 1px;}#sk-container-id-3 div.sk-estimator {font-family: monospace;background-color: #f0f8ff;border: 1px dotted black;border-radius: 0.25em;box-sizing: border-box;margin-bottom: 0.5em;}#sk-container-id-3 div.sk-estimator:hover {background-color: #d4ebff;}#sk-container-id-3 div.sk-parallel-item::after {content: \"\";width: 100%;border-bottom: 1px solid gray;flex-grow: 1;}#sk-container-id-3 div.sk-label:hover label.sk-toggleable__label {background-color: #d4ebff;}#sk-container-id-3 div.sk-serial::before {content: \"\";position: absolute;border-left: 1px solid gray;box-sizing: border-box;top: 0;bottom: 0;left: 50%;z-index: 0;}#sk-container-id-3 div.sk-serial {display: flex;flex-direction: column;align-items: center;background-color: white;padding-right: 0.2em;padding-left: 0.2em;position: relative;}#sk-container-id-3 div.sk-item {position: relative;z-index: 1;}#sk-container-id-3 div.sk-parallel {display: flex;align-items: stretch;justify-content: center;background-color: white;position: relative;}#sk-container-id-3 div.sk-item::before, #sk-container-id-3 div.sk-parallel-item::before {content: \"\";position: absolute;border-left: 1px solid gray;box-sizing: border-box;top: 0;bottom: 0;left: 50%;z-index: -1;}#sk-container-id-3 div.sk-parallel-item {display: flex;flex-direction: column;z-index: 1;position: relative;background-color: white;}#sk-container-id-3 div.sk-parallel-item:first-child::after {align-self: flex-end;width: 50%;}#sk-container-id-3 div.sk-parallel-item:last-child::after {align-self: flex-start;width: 50%;}#sk-container-id-3 div.sk-parallel-item:only-child::after {width: 0;}#sk-container-id-3 div.sk-dashed-wrapped {border: 1px dashed gray;margin: 0 0.4em 0.5em 0.4em;box-sizing: border-box;padding-bottom: 0.4em;background-color: white;}#sk-container-id-3 div.sk-label label {font-family: monospace;font-weight: bold;display: inline-block;line-height: 1.2em;}#sk-container-id-3 div.sk-label-container {text-align: center;}#sk-container-id-3 div.sk-container {/* jupyter's `normalize.less` sets `[hidden] { display: none; }` but bootstrap.min.css set `[hidden] { display: none !important; }` so we also need the `!important` here to be able to override the default hidden behavior on the sphinx rendered scikit-learn.org. See: https://github.com/scikit-learn/scikit-learn/issues/21755 */display: inline-block !important;position: relative;}#sk-container-id-3 div.sk-text-repr-fallback {display: none;}</style><div id=\"sk-container-id-3\" class=\"sk-top-container\"><div class=\"sk-text-repr-fallback\"><pre>GridSearchCV(cv=5, estimator=DecisionTreeClassifier(),\n",
       "             param_grid={&#x27;criterion&#x27;: [&#x27;gini&#x27;, &#x27;entropy&#x27;],\n",
       "                         &#x27;max_depth&#x27;: [5, 10, 20, 25],\n",
       "                         &#x27;min_samples_leaf&#x27;: [10, 20, 30, 40]})</pre><b>In a Jupyter environment, please rerun this cell to show the HTML representation or trust the notebook. <br />On GitHub, the HTML representation is unable to render, please try loading this page with nbviewer.org.</b></div><div class=\"sk-container\" hidden><div class=\"sk-item sk-dashed-wrapped\"><div class=\"sk-label-container\"><div class=\"sk-label sk-toggleable\"><input class=\"sk-toggleable__control sk-hidden--visually\" id=\"sk-estimator-id-3\" type=\"checkbox\" ><label for=\"sk-estimator-id-3\" class=\"sk-toggleable__label sk-toggleable__label-arrow\">GridSearchCV</label><div class=\"sk-toggleable__content\"><pre>GridSearchCV(cv=5, estimator=DecisionTreeClassifier(),\n",
       "             param_grid={&#x27;criterion&#x27;: [&#x27;gini&#x27;, &#x27;entropy&#x27;],\n",
       "                         &#x27;max_depth&#x27;: [5, 10, 20, 25],\n",
       "                         &#x27;min_samples_leaf&#x27;: [10, 20, 30, 40]})</pre></div></div></div><div class=\"sk-parallel\"><div class=\"sk-parallel-item\"><div class=\"sk-item\"><div class=\"sk-label-container\"><div class=\"sk-label sk-toggleable\"><input class=\"sk-toggleable__control sk-hidden--visually\" id=\"sk-estimator-id-4\" type=\"checkbox\" ><label for=\"sk-estimator-id-4\" class=\"sk-toggleable__label sk-toggleable__label-arrow\">estimator: DecisionTreeClassifier</label><div class=\"sk-toggleable__content\"><pre>DecisionTreeClassifier()</pre></div></div></div><div class=\"sk-serial\"><div class=\"sk-item\"><div class=\"sk-estimator sk-toggleable\"><input class=\"sk-toggleable__control sk-hidden--visually\" id=\"sk-estimator-id-5\" type=\"checkbox\" ><label for=\"sk-estimator-id-5\" class=\"sk-toggleable__label sk-toggleable__label-arrow\">DecisionTreeClassifier</label><div class=\"sk-toggleable__content\"><pre>DecisionTreeClassifier()</pre></div></div></div></div></div></div></div></div></div></div>"
      ],
      "text/plain": [
       "GridSearchCV(cv=5, estimator=DecisionTreeClassifier(),\n",
       "             param_grid={'criterion': ['gini', 'entropy'],\n",
       "                         'max_depth': [5, 10, 20, 25],\n",
       "                         'min_samples_leaf': [10, 20, 30, 40]})"
      ]
     },
     "execution_count": 47,
     "metadata": {},
     "output_type": "execute_result"
    }
   ],
   "source": [
    "grid_search.fit(x_train, y_train)"
   ]
  },
  {
   "cell_type": "code",
   "execution_count": 48,
   "id": "56a8fdb0",
   "metadata": {
    "execution": {
     "iopub.execute_input": "2024-03-08T13:05:51.906052Z",
     "iopub.status.busy": "2024-03-08T13:05:51.905623Z",
     "iopub.status.idle": "2024-03-08T13:05:51.911086Z",
     "shell.execute_reply": "2024-03-08T13:05:51.910073Z"
    },
    "papermill": {
     "duration": 0.033311,
     "end_time": "2024-03-08T13:05:51.913766",
     "exception": false,
     "start_time": "2024-03-08T13:05:51.880455",
     "status": "completed"
    },
    "tags": []
   },
   "outputs": [
    {
     "name": "stdout",
     "output_type": "stream",
     "text": [
      "{'criterion': 'entropy', 'max_depth': 10, 'min_samples_leaf': 30}\n"
     ]
    }
   ],
   "source": [
    "print(grid_search.best_params_)"
   ]
  },
  {
   "cell_type": "code",
   "execution_count": 49,
   "id": "e53f15bc",
   "metadata": {
    "execution": {
     "iopub.execute_input": "2024-03-08T13:05:51.962922Z",
     "iopub.status.busy": "2024-03-08T13:05:51.962507Z",
     "iopub.status.idle": "2024-03-08T13:05:51.968246Z",
     "shell.execute_reply": "2024-03-08T13:05:51.966952Z"
    },
    "papermill": {
     "duration": 0.033119,
     "end_time": "2024-03-08T13:05:51.970465",
     "exception": false,
     "start_time": "2024-03-08T13:05:51.937346",
     "status": "completed"
    },
    "tags": []
   },
   "outputs": [
    {
     "name": "stdout",
     "output_type": "stream",
     "text": [
      "0.9712966072859386\n"
     ]
    }
   ],
   "source": [
    "print(grid_search.best_score_)"
   ]
  },
  {
   "cell_type": "code",
   "execution_count": 50,
   "id": "62ba7f04",
   "metadata": {
    "execution": {
     "iopub.execute_input": "2024-03-08T13:05:52.020104Z",
     "iopub.status.busy": "2024-03-08T13:05:52.019657Z",
     "iopub.status.idle": "2024-03-08T13:05:52.024728Z",
     "shell.execute_reply": "2024-03-08T13:05:52.023644Z"
    },
    "papermill": {
     "duration": 0.032819,
     "end_time": "2024-03-08T13:05:52.026855",
     "exception": false,
     "start_time": "2024-03-08T13:05:51.994036",
     "status": "completed"
    },
    "tags": []
   },
   "outputs": [],
   "source": [
    "dt_model = DecisionTreeClassifier(criterion = 'gini', max_depth = 5, min_samples_leaf = 30)"
   ]
  },
  {
   "cell_type": "code",
   "execution_count": 51,
   "id": "60547bb6",
   "metadata": {
    "execution": {
     "iopub.execute_input": "2024-03-08T13:05:52.076241Z",
     "iopub.status.busy": "2024-03-08T13:05:52.075867Z",
     "iopub.status.idle": "2024-03-08T13:05:52.343111Z",
     "shell.execute_reply": "2024-03-08T13:05:52.342111Z"
    },
    "papermill": {
     "duration": 0.294652,
     "end_time": "2024-03-08T13:05:52.345500",
     "exception": false,
     "start_time": "2024-03-08T13:05:52.050848",
     "status": "completed"
    },
    "tags": []
   },
   "outputs": [
    {
     "data": {
      "text/html": [
       "<style>#sk-container-id-4 {color: black;background-color: white;}#sk-container-id-4 pre{padding: 0;}#sk-container-id-4 div.sk-toggleable {background-color: white;}#sk-container-id-4 label.sk-toggleable__label {cursor: pointer;display: block;width: 100%;margin-bottom: 0;padding: 0.3em;box-sizing: border-box;text-align: center;}#sk-container-id-4 label.sk-toggleable__label-arrow:before {content: \"▸\";float: left;margin-right: 0.25em;color: #696969;}#sk-container-id-4 label.sk-toggleable__label-arrow:hover:before {color: black;}#sk-container-id-4 div.sk-estimator:hover label.sk-toggleable__label-arrow:before {color: black;}#sk-container-id-4 div.sk-toggleable__content {max-height: 0;max-width: 0;overflow: hidden;text-align: left;background-color: #f0f8ff;}#sk-container-id-4 div.sk-toggleable__content pre {margin: 0.2em;color: black;border-radius: 0.25em;background-color: #f0f8ff;}#sk-container-id-4 input.sk-toggleable__control:checked~div.sk-toggleable__content {max-height: 200px;max-width: 100%;overflow: auto;}#sk-container-id-4 input.sk-toggleable__control:checked~label.sk-toggleable__label-arrow:before {content: \"▾\";}#sk-container-id-4 div.sk-estimator input.sk-toggleable__control:checked~label.sk-toggleable__label {background-color: #d4ebff;}#sk-container-id-4 div.sk-label input.sk-toggleable__control:checked~label.sk-toggleable__label {background-color: #d4ebff;}#sk-container-id-4 input.sk-hidden--visually {border: 0;clip: rect(1px 1px 1px 1px);clip: rect(1px, 1px, 1px, 1px);height: 1px;margin: -1px;overflow: hidden;padding: 0;position: absolute;width: 1px;}#sk-container-id-4 div.sk-estimator {font-family: monospace;background-color: #f0f8ff;border: 1px dotted black;border-radius: 0.25em;box-sizing: border-box;margin-bottom: 0.5em;}#sk-container-id-4 div.sk-estimator:hover {background-color: #d4ebff;}#sk-container-id-4 div.sk-parallel-item::after {content: \"\";width: 100%;border-bottom: 1px solid gray;flex-grow: 1;}#sk-container-id-4 div.sk-label:hover label.sk-toggleable__label {background-color: #d4ebff;}#sk-container-id-4 div.sk-serial::before {content: \"\";position: absolute;border-left: 1px solid gray;box-sizing: border-box;top: 0;bottom: 0;left: 50%;z-index: 0;}#sk-container-id-4 div.sk-serial {display: flex;flex-direction: column;align-items: center;background-color: white;padding-right: 0.2em;padding-left: 0.2em;position: relative;}#sk-container-id-4 div.sk-item {position: relative;z-index: 1;}#sk-container-id-4 div.sk-parallel {display: flex;align-items: stretch;justify-content: center;background-color: white;position: relative;}#sk-container-id-4 div.sk-item::before, #sk-container-id-4 div.sk-parallel-item::before {content: \"\";position: absolute;border-left: 1px solid gray;box-sizing: border-box;top: 0;bottom: 0;left: 50%;z-index: -1;}#sk-container-id-4 div.sk-parallel-item {display: flex;flex-direction: column;z-index: 1;position: relative;background-color: white;}#sk-container-id-4 div.sk-parallel-item:first-child::after {align-self: flex-end;width: 50%;}#sk-container-id-4 div.sk-parallel-item:last-child::after {align-self: flex-start;width: 50%;}#sk-container-id-4 div.sk-parallel-item:only-child::after {width: 0;}#sk-container-id-4 div.sk-dashed-wrapped {border: 1px dashed gray;margin: 0 0.4em 0.5em 0.4em;box-sizing: border-box;padding-bottom: 0.4em;background-color: white;}#sk-container-id-4 div.sk-label label {font-family: monospace;font-weight: bold;display: inline-block;line-height: 1.2em;}#sk-container-id-4 div.sk-label-container {text-align: center;}#sk-container-id-4 div.sk-container {/* jupyter's `normalize.less` sets `[hidden] { display: none; }` but bootstrap.min.css set `[hidden] { display: none !important; }` so we also need the `!important` here to be able to override the default hidden behavior on the sphinx rendered scikit-learn.org. See: https://github.com/scikit-learn/scikit-learn/issues/21755 */display: inline-block !important;position: relative;}#sk-container-id-4 div.sk-text-repr-fallback {display: none;}</style><div id=\"sk-container-id-4\" class=\"sk-top-container\"><div class=\"sk-text-repr-fallback\"><pre>DecisionTreeClassifier(max_depth=5, min_samples_leaf=30)</pre><b>In a Jupyter environment, please rerun this cell to show the HTML representation or trust the notebook. <br />On GitHub, the HTML representation is unable to render, please try loading this page with nbviewer.org.</b></div><div class=\"sk-container\" hidden><div class=\"sk-item\"><div class=\"sk-estimator sk-toggleable\"><input class=\"sk-toggleable__control sk-hidden--visually\" id=\"sk-estimator-id-6\" type=\"checkbox\" checked><label for=\"sk-estimator-id-6\" class=\"sk-toggleable__label sk-toggleable__label-arrow\">DecisionTreeClassifier</label><div class=\"sk-toggleable__content\"><pre>DecisionTreeClassifier(max_depth=5, min_samples_leaf=30)</pre></div></div></div></div></div>"
      ],
      "text/plain": [
       "DecisionTreeClassifier(max_depth=5, min_samples_leaf=30)"
      ]
     },
     "execution_count": 51,
     "metadata": {},
     "output_type": "execute_result"
    }
   ],
   "source": [
    "dt_model.fit(x_train, y_train)"
   ]
  },
  {
   "cell_type": "code",
   "execution_count": 52,
   "id": "ce944e0d",
   "metadata": {
    "execution": {
     "iopub.execute_input": "2024-03-08T13:05:52.395747Z",
     "iopub.status.busy": "2024-03-08T13:05:52.395358Z",
     "iopub.status.idle": "2024-03-08T13:05:52.400448Z",
     "shell.execute_reply": "2024-03-08T13:05:52.399662Z"
    },
    "papermill": {
     "duration": 0.032352,
     "end_time": "2024-03-08T13:05:52.402407",
     "exception": false,
     "start_time": "2024-03-08T13:05:52.370055",
     "status": "completed"
    },
    "tags": []
   },
   "outputs": [],
   "source": [
    "dt_pred = dt_model.predict(x_test)"
   ]
  },
  {
   "cell_type": "code",
   "execution_count": 53,
   "id": "a495820a",
   "metadata": {
    "execution": {
     "iopub.execute_input": "2024-03-08T13:05:52.452437Z",
     "iopub.status.busy": "2024-03-08T13:05:52.451713Z",
     "iopub.status.idle": "2024-03-08T13:05:52.457566Z",
     "shell.execute_reply": "2024-03-08T13:05:52.456844Z"
    },
    "papermill": {
     "duration": 0.033021,
     "end_time": "2024-03-08T13:05:52.459449",
     "exception": false,
     "start_time": "2024-03-08T13:05:52.426428",
     "status": "completed"
    },
    "tags": []
   },
   "outputs": [
    {
     "data": {
      "text/plain": [
       "array([0, 0, 0, ..., 0, 0, 0])"
      ]
     },
     "execution_count": 53,
     "metadata": {},
     "output_type": "execute_result"
    }
   ],
   "source": [
    "dt_pred"
   ]
  },
  {
   "cell_type": "code",
   "execution_count": 54,
   "id": "d06514a8",
   "metadata": {
    "execution": {
     "iopub.execute_input": "2024-03-08T13:05:52.510408Z",
     "iopub.status.busy": "2024-03-08T13:05:52.509678Z",
     "iopub.status.idle": "2024-03-08T13:05:52.516007Z",
     "shell.execute_reply": "2024-03-08T13:05:52.514636Z"
    },
    "papermill": {
     "duration": 0.034574,
     "end_time": "2024-03-08T13:05:52.518270",
     "exception": false,
     "start_time": "2024-03-08T13:05:52.483696",
     "status": "completed"
    },
    "tags": []
   },
   "outputs": [],
   "source": [
    "train_dt_pred = dt_model.predict(x_train)"
   ]
  },
  {
   "cell_type": "code",
   "execution_count": 55,
   "id": "f838872e",
   "metadata": {
    "execution": {
     "iopub.execute_input": "2024-03-08T13:05:52.569455Z",
     "iopub.status.busy": "2024-03-08T13:05:52.568741Z",
     "iopub.status.idle": "2024-03-08T13:05:52.584632Z",
     "shell.execute_reply": "2024-03-08T13:05:52.583396Z"
    },
    "papermill": {
     "duration": 0.044023,
     "end_time": "2024-03-08T13:05:52.586877",
     "exception": false,
     "start_time": "2024-03-08T13:05:52.542854",
     "status": "completed"
    },
    "tags": []
   },
   "outputs": [
    {
     "name": "stdout",
     "output_type": "stream",
     "text": [
      "Testing Classification Report of DecisionTreeClassifier : \n",
      "              precision    recall  f1-score   support\n",
      "\n",
      "           0       0.97      0.99      0.98      1968\n",
      "           1       0.48      0.21      0.29        78\n",
      "\n",
      "    accuracy                           0.96      2046\n",
      "   macro avg       0.73      0.60      0.63      2046\n",
      "weighted avg       0.95      0.96      0.95      2046\n",
      "\n"
     ]
    }
   ],
   "source": [
    "print(\"Testing Classification Report of DecisionTreeClassifier : \")\n",
    "print(classification_report(y_test, dt_pred))"
   ]
  },
  {
   "cell_type": "code",
   "execution_count": 56,
   "id": "625698ec",
   "metadata": {
    "execution": {
     "iopub.execute_input": "2024-03-08T13:05:52.637949Z",
     "iopub.status.busy": "2024-03-08T13:05:52.636882Z",
     "iopub.status.idle": "2024-03-08T13:05:52.656063Z",
     "shell.execute_reply": "2024-03-08T13:05:52.654902Z"
    },
    "papermill": {
     "duration": 0.047139,
     "end_time": "2024-03-08T13:05:52.658456",
     "exception": false,
     "start_time": "2024-03-08T13:05:52.611317",
     "status": "completed"
    },
    "tags": []
   },
   "outputs": [
    {
     "name": "stdout",
     "output_type": "stream",
     "text": [
      "Training Classification Report of DecisionTreeClassifier : \n",
      "              precision    recall  f1-score   support\n",
      "\n",
      "           0       0.98      0.99      0.99      4631\n",
      "           1       0.69      0.39      0.50       142\n",
      "\n",
      "    accuracy                           0.98      4773\n",
      "   macro avg       0.84      0.69      0.75      4773\n",
      "weighted avg       0.97      0.98      0.97      4773\n",
      "\n"
     ]
    }
   ],
   "source": [
    "print(\"Training Classification Report of DecisionTreeClassifier : \")\n",
    "print(classification_report(y_train, train_dt_pred))"
   ]
  }
 ],
 "metadata": {
  "kaggle": {
   "accelerator": "none",
   "dataSources": [
    {
     "datasetId": 1111894,
     "sourceId": 1938459,
     "sourceType": "datasetVersion"
    }
   ],
   "dockerImageVersionId": 30664,
   "isGpuEnabled": false,
   "isInternetEnabled": true,
   "language": "python",
   "sourceType": "notebook"
  },
  "kernelspec": {
   "display_name": "Python 3",
   "language": "python",
   "name": "python3"
  },
  "language_info": {
   "codemirror_mode": {
    "name": "ipython",
    "version": 3
   },
   "file_extension": ".py",
   "mimetype": "text/x-python",
   "name": "python",
   "nbconvert_exporter": "python",
   "pygments_lexer": "ipython3",
   "version": "3.10.13"
  },
  "papermill": {
   "default_parameters": {},
   "duration": 54.708387,
   "end_time": "2024-03-08T13:05:53.302992",
   "environment_variables": {},
   "exception": null,
   "input_path": "__notebook__.ipynb",
   "output_path": "__notebook__.ipynb",
   "parameters": {},
   "start_time": "2024-03-08T13:04:58.594605",
   "version": "2.5.0"
  }
 },
 "nbformat": 4,
 "nbformat_minor": 5
}
